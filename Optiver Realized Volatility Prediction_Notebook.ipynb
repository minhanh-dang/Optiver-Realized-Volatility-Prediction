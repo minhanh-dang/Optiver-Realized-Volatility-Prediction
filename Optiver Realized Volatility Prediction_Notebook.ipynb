{
 "cells": [
  {
   "cell_type": "markdown",
   "metadata": {},
   "source": [
    "## Optiver Realized Volatility Prediction"
   ]
  },
  {
   "cell_type": "markdown",
   "metadata": {},
   "source": [
    "This dataset contains stock market data relevant to the practical execution of trades in the financial markets. In particular, it includes order book snapshots and executed trades. With one second resolution, it provides a uniquely fine grained look at the micro-structure of modern financial markets."
   ]
  },
  {
   "cell_type": "markdown",
   "metadata": {},
   "source": [
    "#### Data Description\n",
    "\n",
    "book_[train/test].parquet A parquet file partitioned by stock_id. Provides order book data on the most competitive buy and sell orders entered into the market. The top two levels of the book are shared. The first level of the book will be more competitive in price terms, it will then receive execution priority over the second level.\n",
    "\n",
    "stock_id - ID code for the stock. Not all stock IDs exist in every time bucket. Parquet coerces this column to the categorical data type when loaded; you may wish to convert it to int8.\n",
    "time_id - ID code for the time bucket. Time IDs are not necessarily sequential but are consistent across all stocks.\n",
    "seconds_in_bucket - Number of seconds from the start of the bucket, always starting from 0.\n",
    "bid_price[1/2] - Normalized prices of the most/second most competitive buy level.\n",
    "ask_price[1/2] - Normalized prices of the most/second most competitive sell level.\n",
    "bid_size[1/2] - The number of shares on the most/second most competitive buy level.\n",
    "ask_size[1/2] - The number of shares on the most/second most competitive sell level.\n",
    "trade_[train/test].parquet A parquet file partitioned by stock_id. Contains data on trades that actually executed. Usually, in the market, there are more passive buy/sell intention updates (book updates) than actual trades, therefore one may expect this file to be more sparse than the order book.\n",
    "\n",
    "stock_id - Same as above.\n",
    "time_id - Same as above.\n",
    "seconds_in_bucket - Same as above. Note that since trade and book data are taken from the same time window and trade data is more sparse in general, this field is not necessarily starting from 0.\n",
    "price - The average price of executed transactions happening in one second. Prices have been normalized and the average has been weighted by the number of shares traded in each transaction.\n",
    "size - The sum number of shares traded.\n",
    "order_count - The number of unique trade orders taking place.\n",
    "train.csv The ground truth values for the training set.\n",
    "\n",
    "stock_id - Same as above, but since this is a csv the column will load as an integer instead of categorical.\n",
    "time_id - Same as above.\n",
    "target - The realized volatility computed over the 10 minute window following the feature data under the same stock/time_id. There is no overlap between feature and target data. You can find more info in our tutorial notebook.\n",
    "test.csv Provides the mapping between the other data files and the submission file. As with other test files, most of the data is only available to your notebook upon submission with just the first few rows available for download.\n",
    "\n",
    "stock_id - Same as above.\n",
    "time_id - Same as above.\n",
    "row_id - Unique identifier for the submission row. There is one row for each existing time ID/stock ID pair. Each time window is not necessarily containing every individual stock.\n",
    "sample_submission.csv - A sample submission file in the correct format.\n",
    "\n",
    "row_id - Same as in test.csv.\n",
    "target - Same definition as in train.csv. The benchmark is using the median target value from train.csv."
   ]
  },
  {
   "cell_type": "code",
   "execution_count": 4,
   "metadata": {},
   "outputs": [
    {
     "data": {
      "text/html": [
       "<div>\n",
       "<style scoped>\n",
       "    .dataframe tbody tr th:only-of-type {\n",
       "        vertical-align: middle;\n",
       "    }\n",
       "\n",
       "    .dataframe tbody tr th {\n",
       "        vertical-align: top;\n",
       "    }\n",
       "\n",
       "    .dataframe thead th {\n",
       "        text-align: right;\n",
       "    }\n",
       "</style>\n",
       "<table border=\"1\" class=\"dataframe\">\n",
       "  <thead>\n",
       "    <tr style=\"text-align: right;\">\n",
       "      <th></th>\n",
       "      <th>stock_id</th>\n",
       "      <th>time_id</th>\n",
       "      <th>target</th>\n",
       "    </tr>\n",
       "  </thead>\n",
       "  <tbody>\n",
       "    <tr>\n",
       "      <th>0</th>\n",
       "      <td>0</td>\n",
       "      <td>5</td>\n",
       "      <td>0.004136</td>\n",
       "    </tr>\n",
       "    <tr>\n",
       "      <th>1</th>\n",
       "      <td>0</td>\n",
       "      <td>11</td>\n",
       "      <td>0.001445</td>\n",
       "    </tr>\n",
       "    <tr>\n",
       "      <th>2</th>\n",
       "      <td>0</td>\n",
       "      <td>16</td>\n",
       "      <td>0.002168</td>\n",
       "    </tr>\n",
       "    <tr>\n",
       "      <th>3</th>\n",
       "      <td>0</td>\n",
       "      <td>31</td>\n",
       "      <td>0.002195</td>\n",
       "    </tr>\n",
       "    <tr>\n",
       "      <th>4</th>\n",
       "      <td>0</td>\n",
       "      <td>62</td>\n",
       "      <td>0.001747</td>\n",
       "    </tr>\n",
       "  </tbody>\n",
       "</table>\n",
       "</div>"
      ],
      "text/plain": [
       "   stock_id  time_id    target\n",
       "0         0        5  0.004136\n",
       "1         0       11  0.001445\n",
       "2         0       16  0.002168\n",
       "3         0       31  0.002195\n",
       "4         0       62  0.001747"
      ]
     },
     "execution_count": 4,
     "metadata": {},
     "output_type": "execute_result"
    }
   ],
   "source": [
    "import pandas as pd\n",
    "import numpy as np\n",
    "import plotly.express as px\n",
    "train = pd.read_csv('optiver-realized-volatility-prediction/train.csv')\n",
    "train.head()"
   ]
  },
  {
   "cell_type": "markdown",
   "metadata": {},
   "source": [
    "Taking the first row of data, it implies that the realized vol of the target bucket for time_id 5, stock_id 0 is 0.004136. How does the book and trade data in feature bucket look like for us to build signals?"
   ]
  },
  {
   "cell_type": "code",
   "execution_count": 75,
   "metadata": {},
   "outputs": [],
   "source": [
    "book_example = pd.read_parquet('optiver-realized-volatility-prediction/book_train.parquet/stock_id=0')\n",
    "trade_example =  pd.read_parquet('optiver-realized-volatility-prediction/trade_train.parquet/stock_id=0')\n",
    "stock_id = '0'\n",
    "book_example = book_example[book_example['time_id']==5]\n",
    "book_example.loc[:,'stock_id'] = stock_id\n",
    "trade_example = trade_example[trade_example['time_id']==5]\n",
    "trade_example.loc[:,'stock_id'] = stock_id"
   ]
  },
  {
   "cell_type": "markdown",
   "metadata": {},
   "source": [
    "##### Book data snapshot"
   ]
  },
  {
   "cell_type": "code",
   "execution_count": 86,
   "metadata": {},
   "outputs": [
    {
     "data": {
      "text/html": [
       "<div>\n",
       "<style scoped>\n",
       "    .dataframe tbody tr th:only-of-type {\n",
       "        vertical-align: middle;\n",
       "    }\n",
       "\n",
       "    .dataframe tbody tr th {\n",
       "        vertical-align: top;\n",
       "    }\n",
       "\n",
       "    .dataframe thead th {\n",
       "        text-align: right;\n",
       "    }\n",
       "</style>\n",
       "<table border=\"1\" class=\"dataframe\">\n",
       "  <thead>\n",
       "    <tr style=\"text-align: right;\">\n",
       "      <th></th>\n",
       "      <th>time_id</th>\n",
       "      <th>seconds_in_bucket</th>\n",
       "      <th>bid_price1</th>\n",
       "      <th>ask_price1</th>\n",
       "      <th>bid_price2</th>\n",
       "      <th>ask_price2</th>\n",
       "      <th>bid_size1</th>\n",
       "      <th>ask_size1</th>\n",
       "      <th>bid_size2</th>\n",
       "      <th>ask_size2</th>\n",
       "      <th>stock_id</th>\n",
       "      <th>bid_price</th>\n",
       "      <th>bid_size</th>\n",
       "      <th>ask_price</th>\n",
       "      <th>ask_size</th>\n",
       "      <th>wap</th>\n",
       "      <th>wap1</th>\n",
       "      <th>wap2</th>\n",
       "      <th>log_return</th>\n",
       "    </tr>\n",
       "  </thead>\n",
       "  <tbody>\n",
       "    <tr>\n",
       "      <th>1</th>\n",
       "      <td>5</td>\n",
       "      <td>1</td>\n",
       "      <td>1.001422</td>\n",
       "      <td>1.002301</td>\n",
       "      <td>1.001370</td>\n",
       "      <td>1.002353</td>\n",
       "      <td>3</td>\n",
       "      <td>100</td>\n",
       "      <td>2</td>\n",
       "      <td>100</td>\n",
       "      <td>0</td>\n",
       "      <td>1.001401</td>\n",
       "      <td>5</td>\n",
       "      <td>1.002327</td>\n",
       "      <td>200</td>\n",
       "      <td>1.001424</td>\n",
       "      <td>1.001448</td>\n",
       "      <td>1.001390</td>\n",
       "      <td>8.733591e-06</td>\n",
       "    </tr>\n",
       "    <tr>\n",
       "      <th>2</th>\n",
       "      <td>5</td>\n",
       "      <td>5</td>\n",
       "      <td>1.001422</td>\n",
       "      <td>1.002301</td>\n",
       "      <td>1.001370</td>\n",
       "      <td>1.002405</td>\n",
       "      <td>3</td>\n",
       "      <td>100</td>\n",
       "      <td>2</td>\n",
       "      <td>100</td>\n",
       "      <td>0</td>\n",
       "      <td>1.001401</td>\n",
       "      <td>5</td>\n",
       "      <td>1.002353</td>\n",
       "      <td>200</td>\n",
       "      <td>1.001425</td>\n",
       "      <td>1.001448</td>\n",
       "      <td>1.001391</td>\n",
       "      <td>6.300396e-07</td>\n",
       "    </tr>\n",
       "    <tr>\n",
       "      <th>3</th>\n",
       "      <td>5</td>\n",
       "      <td>6</td>\n",
       "      <td>1.001422</td>\n",
       "      <td>1.002301</td>\n",
       "      <td>1.001370</td>\n",
       "      <td>1.002405</td>\n",
       "      <td>3</td>\n",
       "      <td>126</td>\n",
       "      <td>2</td>\n",
       "      <td>100</td>\n",
       "      <td>0</td>\n",
       "      <td>1.001401</td>\n",
       "      <td>5</td>\n",
       "      <td>1.002347</td>\n",
       "      <td>226</td>\n",
       "      <td>1.001422</td>\n",
       "      <td>1.001443</td>\n",
       "      <td>1.001391</td>\n",
       "      <td>-2.737289e-06</td>\n",
       "    </tr>\n",
       "    <tr>\n",
       "      <th>4</th>\n",
       "      <td>5</td>\n",
       "      <td>7</td>\n",
       "      <td>1.001422</td>\n",
       "      <td>1.002301</td>\n",
       "      <td>1.001370</td>\n",
       "      <td>1.002405</td>\n",
       "      <td>3</td>\n",
       "      <td>126</td>\n",
       "      <td>2</td>\n",
       "      <td>100</td>\n",
       "      <td>0</td>\n",
       "      <td>1.001401</td>\n",
       "      <td>5</td>\n",
       "      <td>1.002347</td>\n",
       "      <td>226</td>\n",
       "      <td>1.001422</td>\n",
       "      <td>1.001443</td>\n",
       "      <td>1.001391</td>\n",
       "      <td>0.000000e+00</td>\n",
       "    </tr>\n",
       "    <tr>\n",
       "      <th>5</th>\n",
       "      <td>5</td>\n",
       "      <td>11</td>\n",
       "      <td>1.001422</td>\n",
       "      <td>1.002301</td>\n",
       "      <td>1.001370</td>\n",
       "      <td>1.002405</td>\n",
       "      <td>3</td>\n",
       "      <td>100</td>\n",
       "      <td>2</td>\n",
       "      <td>100</td>\n",
       "      <td>0</td>\n",
       "      <td>1.001401</td>\n",
       "      <td>5</td>\n",
       "      <td>1.002353</td>\n",
       "      <td>200</td>\n",
       "      <td>1.001425</td>\n",
       "      <td>1.001448</td>\n",
       "      <td>1.001391</td>\n",
       "      <td>2.737289e-06</td>\n",
       "    </tr>\n",
       "    <tr>\n",
       "      <th>6</th>\n",
       "      <td>5</td>\n",
       "      <td>12</td>\n",
       "      <td>1.001422</td>\n",
       "      <td>1.002301</td>\n",
       "      <td>1.001370</td>\n",
       "      <td>1.002405</td>\n",
       "      <td>3</td>\n",
       "      <td>126</td>\n",
       "      <td>2</td>\n",
       "      <td>100</td>\n",
       "      <td>0</td>\n",
       "      <td>1.001401</td>\n",
       "      <td>5</td>\n",
       "      <td>1.002347</td>\n",
       "      <td>226</td>\n",
       "      <td>1.001422</td>\n",
       "      <td>1.001443</td>\n",
       "      <td>1.001391</td>\n",
       "      <td>-2.737289e-06</td>\n",
       "    </tr>\n",
       "    <tr>\n",
       "      <th>7</th>\n",
       "      <td>5</td>\n",
       "      <td>14</td>\n",
       "      <td>1.001422</td>\n",
       "      <td>1.002301</td>\n",
       "      <td>1.001370</td>\n",
       "      <td>1.002405</td>\n",
       "      <td>3</td>\n",
       "      <td>126</td>\n",
       "      <td>2</td>\n",
       "      <td>100</td>\n",
       "      <td>0</td>\n",
       "      <td>1.001401</td>\n",
       "      <td>5</td>\n",
       "      <td>1.002347</td>\n",
       "      <td>226</td>\n",
       "      <td>1.001422</td>\n",
       "      <td>1.001443</td>\n",
       "      <td>1.001391</td>\n",
       "      <td>0.000000e+00</td>\n",
       "    </tr>\n",
       "    <tr>\n",
       "      <th>8</th>\n",
       "      <td>5</td>\n",
       "      <td>15</td>\n",
       "      <td>1.001422</td>\n",
       "      <td>1.002301</td>\n",
       "      <td>1.001370</td>\n",
       "      <td>1.002405</td>\n",
       "      <td>3</td>\n",
       "      <td>126</td>\n",
       "      <td>2</td>\n",
       "      <td>100</td>\n",
       "      <td>0</td>\n",
       "      <td>1.001401</td>\n",
       "      <td>5</td>\n",
       "      <td>1.002347</td>\n",
       "      <td>226</td>\n",
       "      <td>1.001422</td>\n",
       "      <td>1.001443</td>\n",
       "      <td>1.001391</td>\n",
       "      <td>0.000000e+00</td>\n",
       "    </tr>\n",
       "    <tr>\n",
       "      <th>9</th>\n",
       "      <td>5</td>\n",
       "      <td>16</td>\n",
       "      <td>1.001422</td>\n",
       "      <td>1.002301</td>\n",
       "      <td>1.001370</td>\n",
       "      <td>1.002405</td>\n",
       "      <td>3</td>\n",
       "      <td>126</td>\n",
       "      <td>2</td>\n",
       "      <td>100</td>\n",
       "      <td>0</td>\n",
       "      <td>1.001401</td>\n",
       "      <td>5</td>\n",
       "      <td>1.002347</td>\n",
       "      <td>226</td>\n",
       "      <td>1.001422</td>\n",
       "      <td>1.001443</td>\n",
       "      <td>1.001391</td>\n",
       "      <td>0.000000e+00</td>\n",
       "    </tr>\n",
       "    <tr>\n",
       "      <th>10</th>\n",
       "      <td>5</td>\n",
       "      <td>17</td>\n",
       "      <td>1.001422</td>\n",
       "      <td>1.002301</td>\n",
       "      <td>1.001370</td>\n",
       "      <td>1.002405</td>\n",
       "      <td>3</td>\n",
       "      <td>100</td>\n",
       "      <td>2</td>\n",
       "      <td>100</td>\n",
       "      <td>0</td>\n",
       "      <td>1.001401</td>\n",
       "      <td>5</td>\n",
       "      <td>1.002353</td>\n",
       "      <td>200</td>\n",
       "      <td>1.001425</td>\n",
       "      <td>1.001448</td>\n",
       "      <td>1.001391</td>\n",
       "      <td>2.737289e-06</td>\n",
       "    </tr>\n",
       "    <tr>\n",
       "      <th>11</th>\n",
       "      <td>5</td>\n",
       "      <td>18</td>\n",
       "      <td>1.001422</td>\n",
       "      <td>1.002301</td>\n",
       "      <td>1.001370</td>\n",
       "      <td>1.002405</td>\n",
       "      <td>3</td>\n",
       "      <td>126</td>\n",
       "      <td>2</td>\n",
       "      <td>100</td>\n",
       "      <td>0</td>\n",
       "      <td>1.001401</td>\n",
       "      <td>5</td>\n",
       "      <td>1.002347</td>\n",
       "      <td>226</td>\n",
       "      <td>1.001422</td>\n",
       "      <td>1.001443</td>\n",
       "      <td>1.001391</td>\n",
       "      <td>-2.737289e-06</td>\n",
       "    </tr>\n",
       "    <tr>\n",
       "      <th>12</th>\n",
       "      <td>5</td>\n",
       "      <td>19</td>\n",
       "      <td>1.001422</td>\n",
       "      <td>1.002301</td>\n",
       "      <td>1.001370</td>\n",
       "      <td>1.002405</td>\n",
       "      <td>3</td>\n",
       "      <td>126</td>\n",
       "      <td>2</td>\n",
       "      <td>100</td>\n",
       "      <td>0</td>\n",
       "      <td>1.001401</td>\n",
       "      <td>5</td>\n",
       "      <td>1.002347</td>\n",
       "      <td>226</td>\n",
       "      <td>1.001422</td>\n",
       "      <td>1.001443</td>\n",
       "      <td>1.001391</td>\n",
       "      <td>0.000000e+00</td>\n",
       "    </tr>\n",
       "    <tr>\n",
       "      <th>13</th>\n",
       "      <td>5</td>\n",
       "      <td>21</td>\n",
       "      <td>1.001422</td>\n",
       "      <td>1.002818</td>\n",
       "      <td>1.001370</td>\n",
       "      <td>1.002922</td>\n",
       "      <td>3</td>\n",
       "      <td>30</td>\n",
       "      <td>2</td>\n",
       "      <td>100</td>\n",
       "      <td>0</td>\n",
       "      <td>1.001401</td>\n",
       "      <td>5</td>\n",
       "      <td>1.002898</td>\n",
       "      <td>130</td>\n",
       "      <td>1.001457</td>\n",
       "      <td>1.001549</td>\n",
       "      <td>1.001401</td>\n",
       "      <td>3.491037e-05</td>\n",
       "    </tr>\n",
       "    <tr>\n",
       "      <th>14</th>\n",
       "      <td>5</td>\n",
       "      <td>24</td>\n",
       "      <td>1.001474</td>\n",
       "      <td>1.002818</td>\n",
       "      <td>1.001422</td>\n",
       "      <td>1.002922</td>\n",
       "      <td>155</td>\n",
       "      <td>30</td>\n",
       "      <td>3</td>\n",
       "      <td>100</td>\n",
       "      <td>0</td>\n",
       "      <td>1.001473</td>\n",
       "      <td>158</td>\n",
       "      <td>1.002898</td>\n",
       "      <td>130</td>\n",
       "      <td>1.002255</td>\n",
       "      <td>1.002600</td>\n",
       "      <td>1.001466</td>\n",
       "      <td>7.963892e-04</td>\n",
       "    </tr>\n",
       "    <tr>\n",
       "      <th>15</th>\n",
       "      <td>5</td>\n",
       "      <td>25</td>\n",
       "      <td>1.001732</td>\n",
       "      <td>1.002818</td>\n",
       "      <td>1.001422</td>\n",
       "      <td>1.002922</td>\n",
       "      <td>83</td>\n",
       "      <td>30</td>\n",
       "      <td>3</td>\n",
       "      <td>100</td>\n",
       "      <td>0</td>\n",
       "      <td>1.001722</td>\n",
       "      <td>86</td>\n",
       "      <td>1.002898</td>\n",
       "      <td>130</td>\n",
       "      <td>1.002190</td>\n",
       "      <td>1.002530</td>\n",
       "      <td>1.001466</td>\n",
       "      <td>-6.459281e-05</td>\n",
       "    </tr>\n",
       "    <tr>\n",
       "      <th>16</th>\n",
       "      <td>5</td>\n",
       "      <td>44</td>\n",
       "      <td>1.001732</td>\n",
       "      <td>1.002818</td>\n",
       "      <td>1.001422</td>\n",
       "      <td>1.002922</td>\n",
       "      <td>83</td>\n",
       "      <td>28</td>\n",
       "      <td>3</td>\n",
       "      <td>100</td>\n",
       "      <td>0</td>\n",
       "      <td>1.001722</td>\n",
       "      <td>86</td>\n",
       "      <td>1.002899</td>\n",
       "      <td>128</td>\n",
       "      <td>1.002195</td>\n",
       "      <td>1.002545</td>\n",
       "      <td>1.001466</td>\n",
       "      <td>4.866582e-06</td>\n",
       "    </tr>\n",
       "    <tr>\n",
       "      <th>17</th>\n",
       "      <td>5</td>\n",
       "      <td>46</td>\n",
       "      <td>1.002818</td>\n",
       "      <td>1.003232</td>\n",
       "      <td>1.002301</td>\n",
       "      <td>1.003801</td>\n",
       "      <td>155</td>\n",
       "      <td>1</td>\n",
       "      <td>200</td>\n",
       "      <td>34</td>\n",
       "      <td>0</td>\n",
       "      <td>1.002527</td>\n",
       "      <td>355</td>\n",
       "      <td>1.003785</td>\n",
       "      <td>35</td>\n",
       "      <td>1.003672</td>\n",
       "      <td>1.003230</td>\n",
       "      <td>1.003583</td>\n",
       "      <td>1.472752e-03</td>\n",
       "    </tr>\n",
       "    <tr>\n",
       "      <th>18</th>\n",
       "      <td>5</td>\n",
       "      <td>47</td>\n",
       "      <td>1.002818</td>\n",
       "      <td>1.003232</td>\n",
       "      <td>1.002301</td>\n",
       "      <td>1.003801</td>\n",
       "      <td>55</td>\n",
       "      <td>1</td>\n",
       "      <td>100</td>\n",
       "      <td>34</td>\n",
       "      <td>0</td>\n",
       "      <td>1.002485</td>\n",
       "      <td>155</td>\n",
       "      <td>1.003785</td>\n",
       "      <td>35</td>\n",
       "      <td>1.003545</td>\n",
       "      <td>1.003225</td>\n",
       "      <td>1.003421</td>\n",
       "      <td>-1.261492e-04</td>\n",
       "    </tr>\n",
       "    <tr>\n",
       "      <th>19</th>\n",
       "      <td>5</td>\n",
       "      <td>48</td>\n",
       "      <td>1.002818</td>\n",
       "      <td>1.003232</td>\n",
       "      <td>1.002353</td>\n",
       "      <td>1.003749</td>\n",
       "      <td>55</td>\n",
       "      <td>101</td>\n",
       "      <td>103</td>\n",
       "      <td>100</td>\n",
       "      <td>0</td>\n",
       "      <td>1.002515</td>\n",
       "      <td>158</td>\n",
       "      <td>1.003490</td>\n",
       "      <td>201</td>\n",
       "      <td>1.002944</td>\n",
       "      <td>1.002964</td>\n",
       "      <td>1.003062</td>\n",
       "      <td>-5.994917e-04</td>\n",
       "    </tr>\n",
       "    <tr>\n",
       "      <th>20</th>\n",
       "      <td>5</td>\n",
       "      <td>50</td>\n",
       "      <td>1.002353</td>\n",
       "      <td>1.003025</td>\n",
       "      <td>1.002301</td>\n",
       "      <td>1.003232</td>\n",
       "      <td>3</td>\n",
       "      <td>20</td>\n",
       "      <td>100</td>\n",
       "      <td>301</td>\n",
       "      <td>0</td>\n",
       "      <td>1.002303</td>\n",
       "      <td>103</td>\n",
       "      <td>1.003219</td>\n",
       "      <td>321</td>\n",
       "      <td>1.002525</td>\n",
       "      <td>1.002441</td>\n",
       "      <td>1.002533</td>\n",
       "      <td>-4.173129e-04</td>\n",
       "    </tr>\n",
       "    <tr>\n",
       "      <th>21</th>\n",
       "      <td>5</td>\n",
       "      <td>51</td>\n",
       "      <td>1.002353</td>\n",
       "      <td>1.003025</td>\n",
       "      <td>1.002301</td>\n",
       "      <td>1.003232</td>\n",
       "      <td>3</td>\n",
       "      <td>20</td>\n",
       "      <td>100</td>\n",
       "      <td>329</td>\n",
       "      <td>0</td>\n",
       "      <td>1.002303</td>\n",
       "      <td>103</td>\n",
       "      <td>1.003220</td>\n",
       "      <td>349</td>\n",
       "      <td>1.002512</td>\n",
       "      <td>1.002441</td>\n",
       "      <td>1.002518</td>\n",
       "      <td>-1.352240e-05</td>\n",
       "    </tr>\n",
       "    <tr>\n",
       "      <th>22</th>\n",
       "      <td>5</td>\n",
       "      <td>55</td>\n",
       "      <td>1.002353</td>\n",
       "      <td>1.003025</td>\n",
       "      <td>1.002301</td>\n",
       "      <td>1.003181</td>\n",
       "      <td>3</td>\n",
       "      <td>20</td>\n",
       "      <td>100</td>\n",
       "      <td>100</td>\n",
       "      <td>0</td>\n",
       "      <td>1.002303</td>\n",
       "      <td>103</td>\n",
       "      <td>1.003155</td>\n",
       "      <td>120</td>\n",
       "      <td>1.002696</td>\n",
       "      <td>1.002441</td>\n",
       "      <td>1.002741</td>\n",
       "      <td>1.838727e-04</td>\n",
       "    </tr>\n",
       "    <tr>\n",
       "      <th>23</th>\n",
       "      <td>5</td>\n",
       "      <td>57</td>\n",
       "      <td>1.002508</td>\n",
       "      <td>1.003646</td>\n",
       "      <td>1.002457</td>\n",
       "      <td>1.003749</td>\n",
       "      <td>200</td>\n",
       "      <td>104</td>\n",
       "      <td>28</td>\n",
       "      <td>200</td>\n",
       "      <td>0</td>\n",
       "      <td>1.002502</td>\n",
       "      <td>228</td>\n",
       "      <td>1.003714</td>\n",
       "      <td>304</td>\n",
       "      <td>1.003021</td>\n",
       "      <td>1.003257</td>\n",
       "      <td>1.002615</td>\n",
       "      <td>3.241090e-04</td>\n",
       "    </tr>\n",
       "    <tr>\n",
       "      <th>24</th>\n",
       "      <td>5</td>\n",
       "      <td>59</td>\n",
       "      <td>1.002508</td>\n",
       "      <td>1.003646</td>\n",
       "      <td>1.002457</td>\n",
       "      <td>1.003749</td>\n",
       "      <td>200</td>\n",
       "      <td>4</td>\n",
       "      <td>28</td>\n",
       "      <td>200</td>\n",
       "      <td>0</td>\n",
       "      <td>1.002502</td>\n",
       "      <td>228</td>\n",
       "      <td>1.003747</td>\n",
       "      <td>204</td>\n",
       "      <td>1.003159</td>\n",
       "      <td>1.003624</td>\n",
       "      <td>1.002615</td>\n",
       "      <td>1.374399e-04</td>\n",
       "    </tr>\n",
       "    <tr>\n",
       "      <th>25</th>\n",
       "      <td>5</td>\n",
       "      <td>60</td>\n",
       "      <td>1.002767</td>\n",
       "      <td>1.003646</td>\n",
       "      <td>1.002715</td>\n",
       "      <td>1.003749</td>\n",
       "      <td>100</td>\n",
       "      <td>4</td>\n",
       "      <td>100</td>\n",
       "      <td>200</td>\n",
       "      <td>0</td>\n",
       "      <td>1.002741</td>\n",
       "      <td>200</td>\n",
       "      <td>1.003747</td>\n",
       "      <td>204</td>\n",
       "      <td>1.003239</td>\n",
       "      <td>1.003612</td>\n",
       "      <td>1.003060</td>\n",
       "      <td>7.974257e-05</td>\n",
       "    </tr>\n",
       "    <tr>\n",
       "      <th>26</th>\n",
       "      <td>5</td>\n",
       "      <td>63</td>\n",
       "      <td>1.002818</td>\n",
       "      <td>1.003646</td>\n",
       "      <td>1.002767</td>\n",
       "      <td>1.003749</td>\n",
       "      <td>11</td>\n",
       "      <td>4</td>\n",
       "      <td>14</td>\n",
       "      <td>200</td>\n",
       "      <td>0</td>\n",
       "      <td>1.002790</td>\n",
       "      <td>25</td>\n",
       "      <td>1.003747</td>\n",
       "      <td>204</td>\n",
       "      <td>1.002894</td>\n",
       "      <td>1.003425</td>\n",
       "      <td>1.002831</td>\n",
       "      <td>-3.440028e-04</td>\n",
       "    </tr>\n",
       "    <tr>\n",
       "      <th>27</th>\n",
       "      <td>5</td>\n",
       "      <td>68</td>\n",
       "      <td>1.002870</td>\n",
       "      <td>1.003749</td>\n",
       "      <td>1.002818</td>\n",
       "      <td>1.003801</td>\n",
       "      <td>100</td>\n",
       "      <td>100</td>\n",
       "      <td>11</td>\n",
       "      <td>34</td>\n",
       "      <td>0</td>\n",
       "      <td>1.002865</td>\n",
       "      <td>111</td>\n",
       "      <td>1.003762</td>\n",
       "      <td>134</td>\n",
       "      <td>1.003272</td>\n",
       "      <td>1.003310</td>\n",
       "      <td>1.003059</td>\n",
       "      <td>3.763814e-04</td>\n",
       "    </tr>\n",
       "    <tr>\n",
       "      <th>28</th>\n",
       "      <td>5</td>\n",
       "      <td>69</td>\n",
       "      <td>1.002818</td>\n",
       "      <td>1.003749</td>\n",
       "      <td>1.002767</td>\n",
       "      <td>1.003801</td>\n",
       "      <td>11</td>\n",
       "      <td>100</td>\n",
       "      <td>114</td>\n",
       "      <td>34</td>\n",
       "      <td>0</td>\n",
       "      <td>1.002771</td>\n",
       "      <td>125</td>\n",
       "      <td>1.003762</td>\n",
       "      <td>134</td>\n",
       "      <td>1.003250</td>\n",
       "      <td>1.002911</td>\n",
       "      <td>1.003564</td>\n",
       "      <td>-2.186730e-05</td>\n",
       "    </tr>\n",
       "    <tr>\n",
       "      <th>29</th>\n",
       "      <td>5</td>\n",
       "      <td>78</td>\n",
       "      <td>1.003284</td>\n",
       "      <td>1.004163</td>\n",
       "      <td>1.003181</td>\n",
       "      <td>1.004318</td>\n",
       "      <td>19</td>\n",
       "      <td>9</td>\n",
       "      <td>28</td>\n",
       "      <td>20</td>\n",
       "      <td>0</td>\n",
       "      <td>1.003222</td>\n",
       "      <td>47</td>\n",
       "      <td>1.004270</td>\n",
       "      <td>29</td>\n",
       "      <td>1.003870</td>\n",
       "      <td>1.003881</td>\n",
       "      <td>1.003844</td>\n",
       "      <td>6.183726e-04</td>\n",
       "    </tr>\n",
       "    <tr>\n",
       "      <th>30</th>\n",
       "      <td>5</td>\n",
       "      <td>79</td>\n",
       "      <td>1.003284</td>\n",
       "      <td>1.004163</td>\n",
       "      <td>1.003181</td>\n",
       "      <td>1.004318</td>\n",
       "      <td>119</td>\n",
       "      <td>9</td>\n",
       "      <td>28</td>\n",
       "      <td>20</td>\n",
       "      <td>0</td>\n",
       "      <td>1.003264</td>\n",
       "      <td>147</td>\n",
       "      <td>1.004270</td>\n",
       "      <td>29</td>\n",
       "      <td>1.004104</td>\n",
       "      <td>1.004101</td>\n",
       "      <td>1.003844</td>\n",
       "      <td>2.331435e-04</td>\n",
       "    </tr>\n",
       "  </tbody>\n",
       "</table>\n",
       "</div>"
      ],
      "text/plain": [
       "    time_id  seconds_in_bucket  bid_price1  ask_price1  bid_price2  \\\n",
       "1         5                  1    1.001422    1.002301    1.001370   \n",
       "2         5                  5    1.001422    1.002301    1.001370   \n",
       "3         5                  6    1.001422    1.002301    1.001370   \n",
       "4         5                  7    1.001422    1.002301    1.001370   \n",
       "5         5                 11    1.001422    1.002301    1.001370   \n",
       "6         5                 12    1.001422    1.002301    1.001370   \n",
       "7         5                 14    1.001422    1.002301    1.001370   \n",
       "8         5                 15    1.001422    1.002301    1.001370   \n",
       "9         5                 16    1.001422    1.002301    1.001370   \n",
       "10        5                 17    1.001422    1.002301    1.001370   \n",
       "11        5                 18    1.001422    1.002301    1.001370   \n",
       "12        5                 19    1.001422    1.002301    1.001370   \n",
       "13        5                 21    1.001422    1.002818    1.001370   \n",
       "14        5                 24    1.001474    1.002818    1.001422   \n",
       "15        5                 25    1.001732    1.002818    1.001422   \n",
       "16        5                 44    1.001732    1.002818    1.001422   \n",
       "17        5                 46    1.002818    1.003232    1.002301   \n",
       "18        5                 47    1.002818    1.003232    1.002301   \n",
       "19        5                 48    1.002818    1.003232    1.002353   \n",
       "20        5                 50    1.002353    1.003025    1.002301   \n",
       "21        5                 51    1.002353    1.003025    1.002301   \n",
       "22        5                 55    1.002353    1.003025    1.002301   \n",
       "23        5                 57    1.002508    1.003646    1.002457   \n",
       "24        5                 59    1.002508    1.003646    1.002457   \n",
       "25        5                 60    1.002767    1.003646    1.002715   \n",
       "26        5                 63    1.002818    1.003646    1.002767   \n",
       "27        5                 68    1.002870    1.003749    1.002818   \n",
       "28        5                 69    1.002818    1.003749    1.002767   \n",
       "29        5                 78    1.003284    1.004163    1.003181   \n",
       "30        5                 79    1.003284    1.004163    1.003181   \n",
       "\n",
       "    ask_price2  bid_size1  ask_size1  bid_size2  ask_size2 stock_id  \\\n",
       "1     1.002353          3        100          2        100        0   \n",
       "2     1.002405          3        100          2        100        0   \n",
       "3     1.002405          3        126          2        100        0   \n",
       "4     1.002405          3        126          2        100        0   \n",
       "5     1.002405          3        100          2        100        0   \n",
       "6     1.002405          3        126          2        100        0   \n",
       "7     1.002405          3        126          2        100        0   \n",
       "8     1.002405          3        126          2        100        0   \n",
       "9     1.002405          3        126          2        100        0   \n",
       "10    1.002405          3        100          2        100        0   \n",
       "11    1.002405          3        126          2        100        0   \n",
       "12    1.002405          3        126          2        100        0   \n",
       "13    1.002922          3         30          2        100        0   \n",
       "14    1.002922        155         30          3        100        0   \n",
       "15    1.002922         83         30          3        100        0   \n",
       "16    1.002922         83         28          3        100        0   \n",
       "17    1.003801        155          1        200         34        0   \n",
       "18    1.003801         55          1        100         34        0   \n",
       "19    1.003749         55        101        103        100        0   \n",
       "20    1.003232          3         20        100        301        0   \n",
       "21    1.003232          3         20        100        329        0   \n",
       "22    1.003181          3         20        100        100        0   \n",
       "23    1.003749        200        104         28        200        0   \n",
       "24    1.003749        200          4         28        200        0   \n",
       "25    1.003749        100          4        100        200        0   \n",
       "26    1.003749         11          4         14        200        0   \n",
       "27    1.003801        100        100         11         34        0   \n",
       "28    1.003801         11        100        114         34        0   \n",
       "29    1.004318         19          9         28         20        0   \n",
       "30    1.004318        119          9         28         20        0   \n",
       "\n",
       "    bid_price  bid_size  ask_price  ask_size       wap      wap1      wap2  \\\n",
       "1    1.001401         5   1.002327       200  1.001424  1.001448  1.001390   \n",
       "2    1.001401         5   1.002353       200  1.001425  1.001448  1.001391   \n",
       "3    1.001401         5   1.002347       226  1.001422  1.001443  1.001391   \n",
       "4    1.001401         5   1.002347       226  1.001422  1.001443  1.001391   \n",
       "5    1.001401         5   1.002353       200  1.001425  1.001448  1.001391   \n",
       "6    1.001401         5   1.002347       226  1.001422  1.001443  1.001391   \n",
       "7    1.001401         5   1.002347       226  1.001422  1.001443  1.001391   \n",
       "8    1.001401         5   1.002347       226  1.001422  1.001443  1.001391   \n",
       "9    1.001401         5   1.002347       226  1.001422  1.001443  1.001391   \n",
       "10   1.001401         5   1.002353       200  1.001425  1.001448  1.001391   \n",
       "11   1.001401         5   1.002347       226  1.001422  1.001443  1.001391   \n",
       "12   1.001401         5   1.002347       226  1.001422  1.001443  1.001391   \n",
       "13   1.001401         5   1.002898       130  1.001457  1.001549  1.001401   \n",
       "14   1.001473       158   1.002898       130  1.002255  1.002600  1.001466   \n",
       "15   1.001722        86   1.002898       130  1.002190  1.002530  1.001466   \n",
       "16   1.001722        86   1.002899       128  1.002195  1.002545  1.001466   \n",
       "17   1.002527       355   1.003785        35  1.003672  1.003230  1.003583   \n",
       "18   1.002485       155   1.003785        35  1.003545  1.003225  1.003421   \n",
       "19   1.002515       158   1.003490       201  1.002944  1.002964  1.003062   \n",
       "20   1.002303       103   1.003219       321  1.002525  1.002441  1.002533   \n",
       "21   1.002303       103   1.003220       349  1.002512  1.002441  1.002518   \n",
       "22   1.002303       103   1.003155       120  1.002696  1.002441  1.002741   \n",
       "23   1.002502       228   1.003714       304  1.003021  1.003257  1.002615   \n",
       "24   1.002502       228   1.003747       204  1.003159  1.003624  1.002615   \n",
       "25   1.002741       200   1.003747       204  1.003239  1.003612  1.003060   \n",
       "26   1.002790        25   1.003747       204  1.002894  1.003425  1.002831   \n",
       "27   1.002865       111   1.003762       134  1.003272  1.003310  1.003059   \n",
       "28   1.002771       125   1.003762       134  1.003250  1.002911  1.003564   \n",
       "29   1.003222        47   1.004270        29  1.003870  1.003881  1.003844   \n",
       "30   1.003264       147   1.004270        29  1.004104  1.004101  1.003844   \n",
       "\n",
       "      log_return  \n",
       "1   8.733591e-06  \n",
       "2   6.300396e-07  \n",
       "3  -2.737289e-06  \n",
       "4   0.000000e+00  \n",
       "5   2.737289e-06  \n",
       "6  -2.737289e-06  \n",
       "7   0.000000e+00  \n",
       "8   0.000000e+00  \n",
       "9   0.000000e+00  \n",
       "10  2.737289e-06  \n",
       "11 -2.737289e-06  \n",
       "12  0.000000e+00  \n",
       "13  3.491037e-05  \n",
       "14  7.963892e-04  \n",
       "15 -6.459281e-05  \n",
       "16  4.866582e-06  \n",
       "17  1.472752e-03  \n",
       "18 -1.261492e-04  \n",
       "19 -5.994917e-04  \n",
       "20 -4.173129e-04  \n",
       "21 -1.352240e-05  \n",
       "22  1.838727e-04  \n",
       "23  3.241090e-04  \n",
       "24  1.374399e-04  \n",
       "25  7.974257e-05  \n",
       "26 -3.440028e-04  \n",
       "27  3.763814e-04  \n",
       "28 -2.186730e-05  \n",
       "29  6.183726e-04  \n",
       "30  2.331435e-04  "
      ]
     },
     "execution_count": 86,
     "metadata": {},
     "output_type": "execute_result"
    }
   ],
   "source": [
    "book_example['time_id'].unique()\n",
    "book_example..head(30)\n",
    "b# book_example.shape"
   ]
  },
  {
   "cell_type": "markdown",
   "metadata": {},
   "source": [
    "##### Trade date snapshot"
   ]
  },
  {
   "cell_type": "code",
   "execution_count": 77,
   "metadata": {},
   "outputs": [
    {
     "data": {
      "text/html": [
       "<div>\n",
       "<style scoped>\n",
       "    .dataframe tbody tr th:only-of-type {\n",
       "        vertical-align: middle;\n",
       "    }\n",
       "\n",
       "    .dataframe tbody tr th {\n",
       "        vertical-align: top;\n",
       "    }\n",
       "\n",
       "    .dataframe thead th {\n",
       "        text-align: right;\n",
       "    }\n",
       "</style>\n",
       "<table border=\"1\" class=\"dataframe\">\n",
       "  <thead>\n",
       "    <tr style=\"text-align: right;\">\n",
       "      <th></th>\n",
       "      <th>time_id</th>\n",
       "      <th>seconds_in_bucket</th>\n",
       "      <th>price</th>\n",
       "      <th>size</th>\n",
       "      <th>order_count</th>\n",
       "      <th>stock_id</th>\n",
       "    </tr>\n",
       "  </thead>\n",
       "  <tbody>\n",
       "    <tr>\n",
       "      <th>0</th>\n",
       "      <td>5</td>\n",
       "      <td>21</td>\n",
       "      <td>1.002301</td>\n",
       "      <td>326</td>\n",
       "      <td>12</td>\n",
       "      <td>0</td>\n",
       "    </tr>\n",
       "    <tr>\n",
       "      <th>1</th>\n",
       "      <td>5</td>\n",
       "      <td>46</td>\n",
       "      <td>1.002778</td>\n",
       "      <td>128</td>\n",
       "      <td>4</td>\n",
       "      <td>0</td>\n",
       "    </tr>\n",
       "    <tr>\n",
       "      <th>2</th>\n",
       "      <td>5</td>\n",
       "      <td>50</td>\n",
       "      <td>1.002818</td>\n",
       "      <td>55</td>\n",
       "      <td>1</td>\n",
       "      <td>0</td>\n",
       "    </tr>\n",
       "    <tr>\n",
       "      <th>3</th>\n",
       "      <td>5</td>\n",
       "      <td>57</td>\n",
       "      <td>1.003155</td>\n",
       "      <td>121</td>\n",
       "      <td>5</td>\n",
       "      <td>0</td>\n",
       "    </tr>\n",
       "    <tr>\n",
       "      <th>4</th>\n",
       "      <td>5</td>\n",
       "      <td>68</td>\n",
       "      <td>1.003646</td>\n",
       "      <td>4</td>\n",
       "      <td>1</td>\n",
       "      <td>0</td>\n",
       "    </tr>\n",
       "  </tbody>\n",
       "</table>\n",
       "</div>"
      ],
      "text/plain": [
       "   time_id  seconds_in_bucket     price  size  order_count stock_id\n",
       "0        5                 21  1.002301   326           12        0\n",
       "1        5                 46  1.002778   128            4        0\n",
       "2        5                 50  1.002818    55            1        0\n",
       "3        5                 57  1.003155   121            5        0\n",
       "4        5                 68  1.003646     4            1        0"
      ]
     },
     "execution_count": 77,
     "metadata": {},
     "output_type": "execute_result"
    }
   ],
   "source": [
    "trade_example.head()"
   ]
  },
  {
   "cell_type": "markdown",
   "metadata": {},
   "source": [
    "##### Realized volatility calculation\n",
    "\n",
    "our target is to predict short-term realized volatility. Although the order book and trade data for the target cannot be shared, we can still present the realized volatility calculation using the feature data we provided.\n",
    "\n",
    "As realized volatility is a statistical measure of price changes on a given stock, to calculate the price change we first need to have a stock valuation at the fixed interval (1 second). We will use weighted averaged price, or WAP, of the order book data we provided."
   ]
  },
  {
   "cell_type": "code",
   "execution_count": 78,
   "metadata": {},
   "outputs": [],
   "source": [
    "book_example['bid_price'] = (book_example['bid_price1'] * book_example['bid_size1'] + book_example['bid_price2'] * book_example['bid_size2'])/(book_example['bid_size1'] + book_example['bid_size2'])\n",
    "book_example['bid_size'] = (book_example['bid_size1'] + book_example['bid_size2'])\n",
    "\n",
    "book_example['ask_price'] = (book_example['ask_price1'] * book_example['ask_size1'] + book_example['ask_price2'] * book_example['ask_size2'])/(book_example['ask_size1'] + book_example['ask_size2'])\n",
    "book_example['ask_size'] = (book_example['ask_size1'] + book_example['ask_size2'])\n",
    "\n",
    "book_example['wap'] = (book_example['bid_price'] * book_example['ask_size'] + book_example['ask_price'] * book_example['bid_size']) / (book_example['bid_size'] +  book_example['ask_size'])\n",
    "\n",
    "book_example['wap1'] = (book_example['bid_price1'] * book_example['ask_size1'] + book_example['ask_price1'] * book_example['bid_size1']) / (book_example['bid_size1'] +  book_example['ask_size1'])\n",
    "\n",
    "book_example['wap2'] = (book_example['bid_price2'] * book_example['ask_size2'] + book_example['ask_price2'] * book_example['bid_size2']) / (book_example['bid_size2'] +  book_example['ask_size2'])"
   ]
  },
  {
   "cell_type": "markdown",
   "metadata": {},
   "source": [
    "The WAP of the stock is plotted below"
   ]
  },
  {
   "cell_type": "code",
   "execution_count": 79,
   "metadata": {},
   "outputs": [
    {
     "data": {
      "application/vnd.plotly.v1+json": {
       "config": {
        "plotlyServerURL": "https://plot.ly"
       },
       "data": [
        {
         "hovertemplate": "seconds_in_bucket=%{x}<br>wap=%{y}<extra></extra>",
         "legendgroup": "",
         "line": {
          "color": "#636efa",
          "dash": "solid"
         },
         "mode": "lines",
         "name": "",
         "orientation": "v",
         "showlegend": false,
         "type": "scatter",
         "x": [
          0,
          1,
          5,
          6,
          7,
          11,
          12,
          14,
          15,
          16,
          17,
          18,
          19,
          21,
          24,
          25,
          44,
          46,
          47,
          48,
          50,
          51,
          55,
          57,
          59,
          60,
          63,
          68,
          69,
          78,
          79,
          81,
          83,
          85,
          90,
          92,
          93,
          94,
          97,
          98,
          101,
          103,
          105,
          106,
          110,
          111,
          113,
          114,
          115,
          118,
          119,
          122,
          123,
          124,
          126,
          127,
          128,
          129,
          132,
          133,
          134,
          138,
          140,
          141,
          143,
          144,
          145,
          147,
          148,
          149,
          150,
          151,
          152,
          153,
          154,
          158,
          159,
          160,
          161,
          164,
          165,
          166,
          167,
          168,
          169,
          171,
          173,
          174,
          175,
          177,
          178,
          181,
          182,
          183,
          185,
          186,
          187,
          188,
          189,
          190,
          191,
          192,
          193,
          194,
          195,
          196,
          197,
          198,
          199,
          200,
          201,
          203,
          204,
          205,
          206,
          207,
          209,
          211,
          212,
          213,
          215,
          216,
          218,
          219,
          221,
          222,
          223,
          224,
          225,
          226,
          227,
          228,
          230,
          231,
          232,
          233,
          234,
          235,
          237,
          239,
          248,
          253,
          254,
          255,
          256,
          257,
          258,
          259,
          260,
          263,
          264,
          265,
          269,
          278,
          282,
          283,
          287,
          288,
          290,
          293,
          295,
          296,
          298,
          301,
          303,
          304,
          305,
          306,
          308,
          309,
          310,
          311,
          312,
          313,
          314,
          316,
          322,
          323,
          329,
          331,
          336,
          338,
          340,
          345,
          348,
          350,
          353,
          356,
          363,
          365,
          366,
          367,
          374,
          378,
          380,
          382,
          385,
          386,
          388,
          389,
          391,
          394,
          398,
          399,
          400,
          401,
          402,
          403,
          404,
          406,
          410,
          411,
          416,
          425,
          426,
          427,
          428,
          430,
          431,
          433,
          434,
          435,
          437,
          438,
          440,
          441,
          442,
          443,
          444,
          445,
          446,
          447,
          448,
          449,
          464,
          465,
          466,
          467,
          470,
          471,
          472,
          473,
          474,
          475,
          477,
          478,
          479,
          488,
          489,
          495,
          496,
          498,
          503,
          511,
          513,
          514,
          515,
          516,
          518,
          519,
          520,
          521,
          522,
          523,
          524,
          525,
          526,
          528,
          531,
          532,
          534,
          535,
          538,
          539,
          540,
          541,
          542,
          545,
          546,
          548,
          549,
          550,
          551,
          552,
          555,
          558,
          561,
          562,
          563,
          571,
          572,
          573,
          574,
          575,
          579,
          581,
          584,
          585,
          586,
          587,
          588,
          593
         ],
         "xaxis": "x",
         "y": [
          1.0014153049230474,
          1.0014240509126244,
          1.001424681849596,
          1.001421940664183,
          1.001421940664183,
          1.001424681849596,
          1.001421940664183,
          1.001421940664183,
          1.001421940664183,
          1.001421940664183,
          1.001424681849596,
          1.001421940664183,
          1.001421940664183,
          1.001456901286742,
          1.0022547684273755,
          1.0021900320694048,
          1.0021949093209948,
          1.0036719808998917,
          1.0035453765131508,
          1.002943939641532,
          1.0025254854676318,
          1.0025119290037643,
          1.002696280554202,
          1.003021316121993,
          1.0031591807636777,
          1.0032391784446166,
          1.0028941207524489,
          1.0032716624817186,
          1.003249723875096,
          1.0038702978267813,
          1.004104370973389,
          1.004109053152231,
          1.004104370973389,
          1.0041072125098978,
          1.0041940164197272,
          1.004192775395139,
          1.0041544236302684,
          1.004129878706812,
          1.0041624463266063,
          1.0041612313982733,
          1.004128925791115,
          1.0038910299746533,
          1.0039773563991727,
          1.0039142464196937,
          1.0039185521948768,
          1.0039207317466539,
          1.0039284566247682,
          1.004026431960969,
          1.0040914533151457,
          1.003909617246145,
          1.0039020840534914,
          1.0043248506867017,
          1.0042948024867695,
          1.0042018521409015,
          1.0048736549850203,
          1.0045556010980379,
          1.0049375111117538,
          1.0049164838174258,
          1.0049215160685478,
          1.0047186351329942,
          1.0048485292890459,
          1.0048472715490426,
          1.0045862741561482,
          1.0044961542205106,
          1.0045727206174968,
          1.0043924467443033,
          1.0043911133698316,
          1.0040098129719397,
          1.0037038588338474,
          1.0036263692147203,
          1.003730479543736,
          1.0040184984265805,
          1.0038469259073821,
          1.0038372950862824,
          1.0038358314308597,
          1.0038469259073821,
          1.0037689754729393,
          1.0038469259073821,
          1.003797998883898,
          1.0038277857774858,
          1.0038291106787511,
          1.0038277857774858,
          1.0038291106787511,
          1.0038327222550634,
          1.0036579724502426,
          1.003657098334076,
          1.0037224508787315,
          1.0036579724502426,
          1.003657098334076,
          1.003766109615437,
          1.003918220719078,
          1.0038163103893223,
          1.0038174279179917,
          1.003918220719078,
          1.0038622715242473,
          1.0038630560332655,
          1.004404357126618,
          1.0043061525839494,
          1.0041239034355378,
          1.004022849977766,
          1.0039056947125227,
          1.003911050706128,
          1.0039109661688213,
          1.0039120562451642,
          1.0039109661688213,
          1.0038610998671003,
          1.0040335779142853,
          1.0038651960730047,
          1.0038610148312046,
          1.0039650573323804,
          1.0039664282392888,
          1.0041576217187098,
          1.0040905171517442,
          1.0040883608528857,
          1.003952029685883,
          1.0036620271481302,
          1.0036265948360057,
          1.0042106913589928,
          1.0039848249823575,
          1.0039545257451863,
          1.0039835104864592,
          1.0039492230641758,
          1.0040973533902848,
          1.004201663408533,
          1.0042036484515071,
          1.004110218195026,
          1.004070480939687,
          1.004318656072892,
          1.0042690391429976,
          1.0043556364432291,
          1.00437158498928,
          1.0042221364538348,
          1.004001127052082,
          1.004163443278285,
          1.0041647083472724,
          1.00424738149042,
          1.004311493575914,
          1.0041775659688612,
          1.0041522539458514,
          1.0041833854116677,
          1.0041821544867702,
          1.0041243005736766,
          1.0039163572975138,
          1.0039144876844994,
          1.0036720585526506,
          1.0044525134295983,
          1.0042832116089244,
          1.0042319870231176,
          1.0042701563224417,
          1.003848520799603,
          1.0041977630937649,
          1.0037994543161481,
          1.0039934784758324,
          1.0040163704711866,
          1.0038016476851543,
          1.0035629155669343,
          1.0036299582556651,
          1.0035285318104423,
          1.0035285607732773,
          1.0035366105364383,
          1.0035529188513812,
          1.0035530322937165,
          1.0035483350189789,
          1.003834198969897,
          1.0039112445621308,
          1.003670362808467,
          1.003574485368486,
          1.0037407681787303,
          1.0036372568564205,
          1.0043141255794328,
          1.0040687864850215,
          1.0040668527829375,
          1.0044553174439825,
          1.004186774564598,
          1.004088416365063,
          1.00394019542001,
          1.0042628337617827,
          1.0037980161461175,
          1.0036839876911723,
          1.0040599301803943,
          1.004051355824518,
          1.004051355824518,
          1.0036787412967554,
          1.003656318653656,
          1.00368525329047,
          1.003656318653656,
          1.00368525329047,
          1.003656318653656,
          1.00368525329047,
          1.003656318653656,
          1.0039567586293066,
          1.0039608233853392,
          1.0039903142445146,
          1.0039699422347057,
          1.0045365036067784,
          1.0043270914378113,
          1.0043374949479607,
          1.0042640536758565,
          1.0042627729368552,
          1.0044091159325017,
          1.0044094315460697,
          1.0044394063993074,
          1.0043020204370003,
          1.0042888374642944,
          1.0042838578702604,
          1.0042747788297057,
          1.0042326134868471,
          1.0044614540734227,
          1.004386485185714,
          1.0043852329309304,
          1.0043851181008476,
          1.0043851181008476,
          1.0043650319795585,
          1.0038512545175984,
          1.0041553758527253,
          1.0041912705922733,
          1.0041923465308602,
          1.0041490770734807,
          1.0040380580294255,
          1.0039298240113976,
          1.0039570989841196,
          1.0041044578600908,
          1.0039989166414207,
          1.0040455931569896,
          1.0040690584959415,
          1.003959292637175,
          1.0040104221823625,
          1.0040624357166916,
          1.0040101125802048,
          1.0040878808487776,
          1.004016639929173,
          1.0040178112692715,
          1.0037207775437869,
          1.0037097380586857,
          1.0039889843459797,
          1.00399238514409,
          1.003863650462239,
          1.0038626593678837,
          1.0034147795674684,
          1.0036310235053365,
          1.003448580776145,
          1.0034248432114556,
          1.003503262539683,
          1.0039406279582248,
          1.0038532254742643,
          1.003926597510674,
          1.0039406279582248,
          1.0040088119669857,
          1.0040060356259346,
          1.0040172449107438,
          1.0040106534683526,
          1.0040117803471758,
          1.004020162815774,
          1.00392328750095,
          1.0039241907204883,
          1.0038653405371816,
          1.0040177999627897,
          1.0040301455983915,
          1.0040224883790223,
          1.0035122305378374,
          1.0035120471508585,
          1.003587719391404,
          1.0035436307915677,
          1.0035403395471303,
          1.003540107462659,
          1.0034486584364737,
          1.0036020083948556,
          1.0036214455940942,
          1.0036307684577432,
          1.0035317720930077,
          1.0038330325003568,
          1.0038301538159493,
          1.003512415522132,
          1.0035080766176077,
          1.0037139660120011,
          1.0034562191449328,
          1.0033271033794453,
          1.0031182382488708,
          1.0031184019045618,
          1.0030226207536619,
          1.0027250732060267,
          1.00279976594041,
          1.0020280055382154,
          1.0020281098985884,
          1.0020281098985884,
          1.002383034267005,
          1.0025581261690926,
          1.0025519213234608,
          1.002479840330599,
          1.0026325868060848,
          1.003359691401852,
          1.0036870971596055,
          1.0032509488541537,
          1.0034315039340713,
          1.0034352219435199,
          1.0036979037472324,
          1.0034813904067128,
          1.0037448844868384,
          1.0037387605586083,
          1.0037448844868384,
          1.0037387605586083,
          1.0037448844868384
         ],
         "yaxis": "y"
        }
       ],
       "layout": {
        "legend": {
         "tracegroupgap": 0
        },
        "template": {
         "data": {
          "bar": [
           {
            "error_x": {
             "color": "#2a3f5f"
            },
            "error_y": {
             "color": "#2a3f5f"
            },
            "marker": {
             "line": {
              "color": "#E5ECF6",
              "width": 0.5
             },
             "pattern": {
              "fillmode": "overlay",
              "size": 10,
              "solidity": 0.2
             }
            },
            "type": "bar"
           }
          ],
          "barpolar": [
           {
            "marker": {
             "line": {
              "color": "#E5ECF6",
              "width": 0.5
             },
             "pattern": {
              "fillmode": "overlay",
              "size": 10,
              "solidity": 0.2
             }
            },
            "type": "barpolar"
           }
          ],
          "carpet": [
           {
            "aaxis": {
             "endlinecolor": "#2a3f5f",
             "gridcolor": "white",
             "linecolor": "white",
             "minorgridcolor": "white",
             "startlinecolor": "#2a3f5f"
            },
            "baxis": {
             "endlinecolor": "#2a3f5f",
             "gridcolor": "white",
             "linecolor": "white",
             "minorgridcolor": "white",
             "startlinecolor": "#2a3f5f"
            },
            "type": "carpet"
           }
          ],
          "choropleth": [
           {
            "colorbar": {
             "outlinewidth": 0,
             "ticks": ""
            },
            "type": "choropleth"
           }
          ],
          "contour": [
           {
            "colorbar": {
             "outlinewidth": 0,
             "ticks": ""
            },
            "colorscale": [
             [
              0,
              "#0d0887"
             ],
             [
              0.1111111111111111,
              "#46039f"
             ],
             [
              0.2222222222222222,
              "#7201a8"
             ],
             [
              0.3333333333333333,
              "#9c179e"
             ],
             [
              0.4444444444444444,
              "#bd3786"
             ],
             [
              0.5555555555555556,
              "#d8576b"
             ],
             [
              0.6666666666666666,
              "#ed7953"
             ],
             [
              0.7777777777777778,
              "#fb9f3a"
             ],
             [
              0.8888888888888888,
              "#fdca26"
             ],
             [
              1,
              "#f0f921"
             ]
            ],
            "type": "contour"
           }
          ],
          "contourcarpet": [
           {
            "colorbar": {
             "outlinewidth": 0,
             "ticks": ""
            },
            "type": "contourcarpet"
           }
          ],
          "heatmap": [
           {
            "colorbar": {
             "outlinewidth": 0,
             "ticks": ""
            },
            "colorscale": [
             [
              0,
              "#0d0887"
             ],
             [
              0.1111111111111111,
              "#46039f"
             ],
             [
              0.2222222222222222,
              "#7201a8"
             ],
             [
              0.3333333333333333,
              "#9c179e"
             ],
             [
              0.4444444444444444,
              "#bd3786"
             ],
             [
              0.5555555555555556,
              "#d8576b"
             ],
             [
              0.6666666666666666,
              "#ed7953"
             ],
             [
              0.7777777777777778,
              "#fb9f3a"
             ],
             [
              0.8888888888888888,
              "#fdca26"
             ],
             [
              1,
              "#f0f921"
             ]
            ],
            "type": "heatmap"
           }
          ],
          "heatmapgl": [
           {
            "colorbar": {
             "outlinewidth": 0,
             "ticks": ""
            },
            "colorscale": [
             [
              0,
              "#0d0887"
             ],
             [
              0.1111111111111111,
              "#46039f"
             ],
             [
              0.2222222222222222,
              "#7201a8"
             ],
             [
              0.3333333333333333,
              "#9c179e"
             ],
             [
              0.4444444444444444,
              "#bd3786"
             ],
             [
              0.5555555555555556,
              "#d8576b"
             ],
             [
              0.6666666666666666,
              "#ed7953"
             ],
             [
              0.7777777777777778,
              "#fb9f3a"
             ],
             [
              0.8888888888888888,
              "#fdca26"
             ],
             [
              1,
              "#f0f921"
             ]
            ],
            "type": "heatmapgl"
           }
          ],
          "histogram": [
           {
            "marker": {
             "pattern": {
              "fillmode": "overlay",
              "size": 10,
              "solidity": 0.2
             }
            },
            "type": "histogram"
           }
          ],
          "histogram2d": [
           {
            "colorbar": {
             "outlinewidth": 0,
             "ticks": ""
            },
            "colorscale": [
             [
              0,
              "#0d0887"
             ],
             [
              0.1111111111111111,
              "#46039f"
             ],
             [
              0.2222222222222222,
              "#7201a8"
             ],
             [
              0.3333333333333333,
              "#9c179e"
             ],
             [
              0.4444444444444444,
              "#bd3786"
             ],
             [
              0.5555555555555556,
              "#d8576b"
             ],
             [
              0.6666666666666666,
              "#ed7953"
             ],
             [
              0.7777777777777778,
              "#fb9f3a"
             ],
             [
              0.8888888888888888,
              "#fdca26"
             ],
             [
              1,
              "#f0f921"
             ]
            ],
            "type": "histogram2d"
           }
          ],
          "histogram2dcontour": [
           {
            "colorbar": {
             "outlinewidth": 0,
             "ticks": ""
            },
            "colorscale": [
             [
              0,
              "#0d0887"
             ],
             [
              0.1111111111111111,
              "#46039f"
             ],
             [
              0.2222222222222222,
              "#7201a8"
             ],
             [
              0.3333333333333333,
              "#9c179e"
             ],
             [
              0.4444444444444444,
              "#bd3786"
             ],
             [
              0.5555555555555556,
              "#d8576b"
             ],
             [
              0.6666666666666666,
              "#ed7953"
             ],
             [
              0.7777777777777778,
              "#fb9f3a"
             ],
             [
              0.8888888888888888,
              "#fdca26"
             ],
             [
              1,
              "#f0f921"
             ]
            ],
            "type": "histogram2dcontour"
           }
          ],
          "mesh3d": [
           {
            "colorbar": {
             "outlinewidth": 0,
             "ticks": ""
            },
            "type": "mesh3d"
           }
          ],
          "parcoords": [
           {
            "line": {
             "colorbar": {
              "outlinewidth": 0,
              "ticks": ""
             }
            },
            "type": "parcoords"
           }
          ],
          "pie": [
           {
            "automargin": true,
            "type": "pie"
           }
          ],
          "scatter": [
           {
            "marker": {
             "colorbar": {
              "outlinewidth": 0,
              "ticks": ""
             }
            },
            "type": "scatter"
           }
          ],
          "scatter3d": [
           {
            "line": {
             "colorbar": {
              "outlinewidth": 0,
              "ticks": ""
             }
            },
            "marker": {
             "colorbar": {
              "outlinewidth": 0,
              "ticks": ""
             }
            },
            "type": "scatter3d"
           }
          ],
          "scattercarpet": [
           {
            "marker": {
             "colorbar": {
              "outlinewidth": 0,
              "ticks": ""
             }
            },
            "type": "scattercarpet"
           }
          ],
          "scattergeo": [
           {
            "marker": {
             "colorbar": {
              "outlinewidth": 0,
              "ticks": ""
             }
            },
            "type": "scattergeo"
           }
          ],
          "scattergl": [
           {
            "marker": {
             "colorbar": {
              "outlinewidth": 0,
              "ticks": ""
             }
            },
            "type": "scattergl"
           }
          ],
          "scattermapbox": [
           {
            "marker": {
             "colorbar": {
              "outlinewidth": 0,
              "ticks": ""
             }
            },
            "type": "scattermapbox"
           }
          ],
          "scatterpolar": [
           {
            "marker": {
             "colorbar": {
              "outlinewidth": 0,
              "ticks": ""
             }
            },
            "type": "scatterpolar"
           }
          ],
          "scatterpolargl": [
           {
            "marker": {
             "colorbar": {
              "outlinewidth": 0,
              "ticks": ""
             }
            },
            "type": "scatterpolargl"
           }
          ],
          "scatterternary": [
           {
            "marker": {
             "colorbar": {
              "outlinewidth": 0,
              "ticks": ""
             }
            },
            "type": "scatterternary"
           }
          ],
          "surface": [
           {
            "colorbar": {
             "outlinewidth": 0,
             "ticks": ""
            },
            "colorscale": [
             [
              0,
              "#0d0887"
             ],
             [
              0.1111111111111111,
              "#46039f"
             ],
             [
              0.2222222222222222,
              "#7201a8"
             ],
             [
              0.3333333333333333,
              "#9c179e"
             ],
             [
              0.4444444444444444,
              "#bd3786"
             ],
             [
              0.5555555555555556,
              "#d8576b"
             ],
             [
              0.6666666666666666,
              "#ed7953"
             ],
             [
              0.7777777777777778,
              "#fb9f3a"
             ],
             [
              0.8888888888888888,
              "#fdca26"
             ],
             [
              1,
              "#f0f921"
             ]
            ],
            "type": "surface"
           }
          ],
          "table": [
           {
            "cells": {
             "fill": {
              "color": "#EBF0F8"
             },
             "line": {
              "color": "white"
             }
            },
            "header": {
             "fill": {
              "color": "#C8D4E3"
             },
             "line": {
              "color": "white"
             }
            },
            "type": "table"
           }
          ]
         },
         "layout": {
          "annotationdefaults": {
           "arrowcolor": "#2a3f5f",
           "arrowhead": 0,
           "arrowwidth": 1
          },
          "autotypenumbers": "strict",
          "coloraxis": {
           "colorbar": {
            "outlinewidth": 0,
            "ticks": ""
           }
          },
          "colorscale": {
           "diverging": [
            [
             0,
             "#8e0152"
            ],
            [
             0.1,
             "#c51b7d"
            ],
            [
             0.2,
             "#de77ae"
            ],
            [
             0.3,
             "#f1b6da"
            ],
            [
             0.4,
             "#fde0ef"
            ],
            [
             0.5,
             "#f7f7f7"
            ],
            [
             0.6,
             "#e6f5d0"
            ],
            [
             0.7,
             "#b8e186"
            ],
            [
             0.8,
             "#7fbc41"
            ],
            [
             0.9,
             "#4d9221"
            ],
            [
             1,
             "#276419"
            ]
           ],
           "sequential": [
            [
             0,
             "#0d0887"
            ],
            [
             0.1111111111111111,
             "#46039f"
            ],
            [
             0.2222222222222222,
             "#7201a8"
            ],
            [
             0.3333333333333333,
             "#9c179e"
            ],
            [
             0.4444444444444444,
             "#bd3786"
            ],
            [
             0.5555555555555556,
             "#d8576b"
            ],
            [
             0.6666666666666666,
             "#ed7953"
            ],
            [
             0.7777777777777778,
             "#fb9f3a"
            ],
            [
             0.8888888888888888,
             "#fdca26"
            ],
            [
             1,
             "#f0f921"
            ]
           ],
           "sequentialminus": [
            [
             0,
             "#0d0887"
            ],
            [
             0.1111111111111111,
             "#46039f"
            ],
            [
             0.2222222222222222,
             "#7201a8"
            ],
            [
             0.3333333333333333,
             "#9c179e"
            ],
            [
             0.4444444444444444,
             "#bd3786"
            ],
            [
             0.5555555555555556,
             "#d8576b"
            ],
            [
             0.6666666666666666,
             "#ed7953"
            ],
            [
             0.7777777777777778,
             "#fb9f3a"
            ],
            [
             0.8888888888888888,
             "#fdca26"
            ],
            [
             1,
             "#f0f921"
            ]
           ]
          },
          "colorway": [
           "#636efa",
           "#EF553B",
           "#00cc96",
           "#ab63fa",
           "#FFA15A",
           "#19d3f3",
           "#FF6692",
           "#B6E880",
           "#FF97FF",
           "#FECB52"
          ],
          "font": {
           "color": "#2a3f5f"
          },
          "geo": {
           "bgcolor": "white",
           "lakecolor": "white",
           "landcolor": "#E5ECF6",
           "showlakes": true,
           "showland": true,
           "subunitcolor": "white"
          },
          "hoverlabel": {
           "align": "left"
          },
          "hovermode": "closest",
          "mapbox": {
           "style": "light"
          },
          "paper_bgcolor": "white",
          "plot_bgcolor": "#E5ECF6",
          "polar": {
           "angularaxis": {
            "gridcolor": "white",
            "linecolor": "white",
            "ticks": ""
           },
           "bgcolor": "#E5ECF6",
           "radialaxis": {
            "gridcolor": "white",
            "linecolor": "white",
            "ticks": ""
           }
          },
          "scene": {
           "xaxis": {
            "backgroundcolor": "#E5ECF6",
            "gridcolor": "white",
            "gridwidth": 2,
            "linecolor": "white",
            "showbackground": true,
            "ticks": "",
            "zerolinecolor": "white"
           },
           "yaxis": {
            "backgroundcolor": "#E5ECF6",
            "gridcolor": "white",
            "gridwidth": 2,
            "linecolor": "white",
            "showbackground": true,
            "ticks": "",
            "zerolinecolor": "white"
           },
           "zaxis": {
            "backgroundcolor": "#E5ECF6",
            "gridcolor": "white",
            "gridwidth": 2,
            "linecolor": "white",
            "showbackground": true,
            "ticks": "",
            "zerolinecolor": "white"
           }
          },
          "shapedefaults": {
           "line": {
            "color": "#2a3f5f"
           }
          },
          "ternary": {
           "aaxis": {
            "gridcolor": "white",
            "linecolor": "white",
            "ticks": ""
           },
           "baxis": {
            "gridcolor": "white",
            "linecolor": "white",
            "ticks": ""
           },
           "bgcolor": "#E5ECF6",
           "caxis": {
            "gridcolor": "white",
            "linecolor": "white",
            "ticks": ""
           }
          },
          "title": {
           "x": 0.05
          },
          "xaxis": {
           "automargin": true,
           "gridcolor": "white",
           "linecolor": "white",
           "ticks": "",
           "title": {
            "standoff": 15
           },
           "zerolinecolor": "white",
           "zerolinewidth": 2
          },
          "yaxis": {
           "automargin": true,
           "gridcolor": "white",
           "linecolor": "white",
           "ticks": "",
           "title": {
            "standoff": 15
           },
           "zerolinecolor": "white",
           "zerolinewidth": 2
          }
         }
        },
        "title": {
         "text": "WAP of stock_id_0, time_id_5"
        },
        "xaxis": {
         "anchor": "y",
         "domain": [
          0,
          1
         ],
         "title": {
          "text": "seconds_in_bucket"
         }
        },
        "yaxis": {
         "anchor": "x",
         "domain": [
          0,
          1
         ],
         "title": {
          "text": "wap"
         }
        }
       }
      }
     },
     "metadata": {},
     "output_type": "display_data"
    }
   ],
   "source": [
    "fig = px.line(book_example, x=\"seconds_in_bucket\", y=\"wap\", title='WAP of stock_id_0, time_id_5')\n",
    "fig.show()"
   ]
  },
  {
   "cell_type": "markdown",
   "metadata": {},
   "source": [
    "### Log returns\n",
    "\n",
    "How can we compare the price of a stock between yesterday and today?\n",
    "\n",
    "The easiest method would be to just take the difference. This is definitely the most intuitive way, however price differences are not always comparable across stocks. For example, let's assume that we have invested $\\$1000$ in both stock A and stock B and that stock A moves from  $\\$100$ to  $\\$102$ and stock B moves from  $\\$10$ to  $\\$11$. We had a total of $10$ shares of A ( $\\$1000 / \\$100=10 )$ which led to a profit of  $10(\\$102−\\$100)=\\$20$  and a total of $100$ shares of B that yielded $\\$100$. So the price increase was larger for stock A, although the move was proportionally much larger for stock B.\n",
    "\n",
    "We can solve the above problem by dividing the move by the starting price of the stock, effectively computing the percentage change in price, also known as the stock return. In our example, the return for stock A was  $\\$102−\\$100/\\$100=2\\%$ , while for stock B it was  $\\$11−\\$10/\\$10=10\\%$ . The stock return coincides with the percentage change in our invested capital.\n",
    "\n",
    "Returns are widely used in finance, however log returns are preferred whenever some mathematical modelling is required. Calling  St  the price of the stock  $S$  at time  $t$ , we can define the log return between  $t_1$  and  $t_2$  as:\n",
    "\n",
    " - $r(t_1,t_2)=log(S_{t_2}/S_{t_1})$\n",
    " \n",
    "Usually, we look at log returns over fixed time intervals, so with 10-minute log return we mean  $rt=rt−10min,t$ .\n",
    "\n",
    "Log returns present several advantages, for example:\n",
    "\n",
    "- they are additive across time  $r(t_1,t_2) + r(t_2,t_3) = (rt_1,t_3)$ \n",
    "- regular returns cannot go below $-100\\%$, while log returns are not bounded\n",
    "\n",
    "Next we will compute the log return\n",
    "\n",
    "To compute the Log Return, we will simply take the logarithm of the ratio between two consecutive WAP. The first row will have an empty return as the previous book update is unknown, therefore the empty return data point will be dropped."
   ]
  },
  {
   "cell_type": "code",
   "execution_count": 80,
   "metadata": {},
   "outputs": [],
   "source": [
    "def log_return(list_stock_prices):\n",
    "    return np.log(list_stock_prices).diff()"
   ]
  },
  {
   "cell_type": "code",
   "execution_count": 83,
   "metadata": {},
   "outputs": [],
   "source": [
    "book_example.loc[:,'log_return'] = log_return(book_example['wap'])\n",
    "\n",
    "#~ means NOT \n",
    "# also the null condition is applied because when we .diff() method the first row will have empty value as we cannot have diff of return with respect to the previous time id as the first row is the very first time id\n",
    "book_example = book_example[~book_example['log_return'].isnull()]"
   ]
  },
  {
   "cell_type": "code",
   "execution_count": 84,
   "metadata": {},
   "outputs": [
    {
     "data": {
      "text/plain": [
       "0"
      ]
     },
     "execution_count": 84,
     "metadata": {},
     "output_type": "execute_result"
    }
   ],
   "source": [
    "book_example['log_return'].isnull().sum()"
   ]
  },
  {
   "cell_type": "markdown",
   "metadata": {},
   "source": [
    "Let's plot the tick-to-tick return of this instrument over this time bucket"
   ]
  },
  {
   "cell_type": "code",
   "execution_count": 85,
   "metadata": {},
   "outputs": [
    {
     "data": {
      "application/vnd.plotly.v1+json": {
       "config": {
        "plotlyServerURL": "https://plot.ly"
       },
       "data": [
        {
         "hovertemplate": "seconds_in_bucket=%{x}<br>log_return=%{y}<extra></extra>",
         "legendgroup": "",
         "line": {
          "color": "#636efa",
          "dash": "solid"
         },
         "mode": "lines",
         "name": "",
         "orientation": "v",
         "showlegend": false,
         "type": "scatter",
         "x": [
          1,
          5,
          6,
          7,
          11,
          12,
          14,
          15,
          16,
          17,
          18,
          19,
          21,
          24,
          25,
          44,
          46,
          47,
          48,
          50,
          51,
          55,
          57,
          59,
          60,
          63,
          68,
          69,
          78,
          79,
          81,
          83,
          85,
          90,
          92,
          93,
          94,
          97,
          98,
          101,
          103,
          105,
          106,
          110,
          111,
          113,
          114,
          115,
          118,
          119,
          122,
          123,
          124,
          126,
          127,
          128,
          129,
          132,
          133,
          134,
          138,
          140,
          141,
          143,
          144,
          145,
          147,
          148,
          149,
          150,
          151,
          152,
          153,
          154,
          158,
          159,
          160,
          161,
          164,
          165,
          166,
          167,
          168,
          169,
          171,
          173,
          174,
          175,
          177,
          178,
          181,
          182,
          183,
          185,
          186,
          187,
          188,
          189,
          190,
          191,
          192,
          193,
          194,
          195,
          196,
          197,
          198,
          199,
          200,
          201,
          203,
          204,
          205,
          206,
          207,
          209,
          211,
          212,
          213,
          215,
          216,
          218,
          219,
          221,
          222,
          223,
          224,
          225,
          226,
          227,
          228,
          230,
          231,
          232,
          233,
          234,
          235,
          237,
          239,
          248,
          253,
          254,
          255,
          256,
          257,
          258,
          259,
          260,
          263,
          264,
          265,
          269,
          278,
          282,
          283,
          287,
          288,
          290,
          293,
          295,
          296,
          298,
          301,
          303,
          304,
          305,
          306,
          308,
          309,
          310,
          311,
          312,
          313,
          314,
          316,
          322,
          323,
          329,
          331,
          336,
          338,
          340,
          345,
          348,
          350,
          353,
          356,
          363,
          365,
          366,
          367,
          374,
          378,
          380,
          382,
          385,
          386,
          388,
          389,
          391,
          394,
          398,
          399,
          400,
          401,
          402,
          403,
          404,
          406,
          410,
          411,
          416,
          425,
          426,
          427,
          428,
          430,
          431,
          433,
          434,
          435,
          437,
          438,
          440,
          441,
          442,
          443,
          444,
          445,
          446,
          447,
          448,
          449,
          464,
          465,
          466,
          467,
          470,
          471,
          472,
          473,
          474,
          475,
          477,
          478,
          479,
          488,
          489,
          495,
          496,
          498,
          503,
          511,
          513,
          514,
          515,
          516,
          518,
          519,
          520,
          521,
          522,
          523,
          524,
          525,
          526,
          528,
          531,
          532,
          534,
          535,
          538,
          539,
          540,
          541,
          542,
          545,
          546,
          548,
          549,
          550,
          551,
          552,
          555,
          558,
          561,
          562,
          563,
          571,
          572,
          573,
          574,
          575,
          579,
          581,
          584,
          585,
          586,
          587,
          588,
          593
         ],
         "xaxis": "x",
         "y": [
          8.73359069121591e-06,
          6.300395643831815e-07,
          -2.7372893980680615e-06,
          0,
          2.7372893980680615e-06,
          -2.7372893980680615e-06,
          0,
          0,
          0,
          2.7372893980680615e-06,
          -2.7372893980680615e-06,
          0,
          3.491037184098311e-05,
          0.0007963892159363938,
          -6.459280692302106e-05,
          4.866581752062393e-06,
          0.0014727516098684626,
          -0.0001261491551388461,
          -0.0005994917439021315,
          -0.000417312949012262,
          -1.352240488863973e-05,
          0.0001838727271096189,
          0.0003241090083419794,
          0.00013743991840792398,
          7.974257017721257e-05,
          -0.00034400275964577114,
          0.0003763813906925177,
          -2.186730405440932e-05,
          0.0006183725584422055,
          0.0002331435264647688,
          4.663029124030681e-06,
          -4.663029124030681e-06,
          2.829917457035022e-06,
          8.644510956130023e-05,
          -1.2358422125293561e-06,
          -3.819236523826264e-05,
          -2.4443674064514136e-05,
          3.243314670001857e-05,
          -1.2098929535351785e-06,
          -3.2172250653538306e-05,
          -0.0002369456706758843,
          8.598813065485884e-05,
          -6.286193877317464e-05,
          4.288977833257802e-06,
          2.1710420694447466e-06,
          7.69467961943271e-06,
          9.75871886720412e-05,
          6.475850314974305e-05,
          -0.00018111152644644402,
          -7.50388360505486e-06,
          0.00042103472684516504,
          -2.9919253141838e-05,
          -9.255713293838605e-05,
          0.000668768164038369,
          -0.00031656142028955395,
          0.00038010582469141796,
          -2.0924200844216548e-05,
          5.007618646203291e-06,
          -0.00020190772574043506,
          0.00012927575503051195,
          -1.2516720219379537e-06,
          -0.0002597721083336833,
          -8.971253187538709e-05,
          7.62207786723177e-05,
          -0.00017946938713142395,
          -1.327544189626273e-06,
          -0.0003797054636571883,
          -0.0003047786591854713,
          -7.72066479972737e-05,
          0.00010372877067029319,
          0.00028690726577915073,
          -0.0001709004174649015,
          -9.593960045204807e-06,
          -1.458061477546766e-06,
          1.1052021522751573e-05,
          -7.765472910269957e-05,
          7.765472910269957e-05,
          -4.874071394750986e-05,
          2.9673750773119914e-05,
          1.3198482945006758e-06,
          -1.3198482945006758e-06,
          1.3198482945006758e-06,
          3.5977934660052883e-06,
          -0.00017409774871991355,
          -8.709307066766953e-07,
          6.511229498593583e-05,
          -6.424136427925914e-05,
          -8.709307066766953e-07,
          0.00010860817094926261,
          0.0001515289048518811,
          -0.0001015177338081312,
          1.113279427474717e-06,
          0.00010040445438065648,
          -5.5732382161577734e-05,
          7.814903835940204e-07,
          0.0005390727379369804,
          -9.777869162530973e-05,
          -0.0001814841879761598,
          -0.0001006434989727998,
          -0.00011669266387591111,
          5.335141882373013e-06,
          -8.420796863452262e-08,
          1.0858291102353902e-06,
          -1.0858291102353902e-06,
          -4.967326976482861e-05,
          0.00017179989520149132,
          -0.00016771945265037485,
          -4.1651513811242005e-06,
          0.00010363696608123394,
          1.3654917195024888e-06,
          0.00019041998924588296,
          -6.682895972037403e-05,
          -2.1475167199481657e-06,
          -0.00013578528385628074,
          -0.00028890267906094653,
          -3.530365463159631e-05,
          0.0005818166078296978,
          -0.00022494460897825707,
          -3.0179434615452104e-05,
          2.887015510627533e-05,
          -3.415196307507591e-05,
          0.0001475367435344035,
          0.000103878971676373,
          1.9767354353184344e-06,
          -9.304348100172295e-05,
          -3.9575378213157e-05,
          0.00024713849511991213,
          -4.940479325123842e-05,
          8.622546694534317e-05,
          1.5879255163253267e-05,
          -0.00014880912364257943,
          -0.00022010441434599636,
          0.0001616562994434011,
          1.2598229889079077e-06,
          8.232687266979902e-05,
          6.383889096974339e-05,
          -0.00013336155018114568,
          -2.5207037967728968e-05,
          3.100225401447398e-05,
          -1.2257976679174928e-06,
          -5.761462645680147e-05,
          -0.00020711062407128677,
          -1.8623212399374728e-06,
          -0.00024151300822528856,
          0.0007772973122604572,
          -0.00016856554992719045,
          -5.100741667561984e-05,
          3.800772576235782e-05,
          -0.0004199308873904361,
          0.00034784287641618367,
          -0.0003967224450187115,
          0.00019327108599633946,
          2.280068035244876e-05,
          -0.00021388670179187759,
          -0.00023785626558912474,
          6.680243800194887e-05,
          -0.00010106470994805184,
          2.8860997652955384e-08,
          8.021426783788848e-06,
          1.6250710000224617e-05,
          1.1304070444148953e-07,
          -4.680655211667002e-06,
          0.00028481263337722237,
          7.674836719952964e-05,
          -0.00023997206782055795,
          -9.553138486425227e-05,
          0.00016567682662773807,
          -0.00010313087132626493,
          0.0006741883838136515,
          -0.0002443150598004573,
          -1.925868000348524e-06,
          0.0003868164082499251,
          -0.00026738748735065897,
          -9.795291009713405e-05,
          -0.0001476283200869226,
          0.00032132044405899524,
          -0.0004629517317548621,
          -0.00011360346428999826,
          0.0003744924741340668,
          -8.539721813238636e-06,
          0,
          -0.0003711799036882936,
          -2.2340707884472427e-05,
          2.8828812415878334e-05,
          -2.8828812415878334e-05,
          2.8828812415878334e-05,
          -2.8828812415878334e-05,
          2.8828812415878334e-05,
          -2.8828812415878334e-05,
          0.0002993006782959981,
          4.048727964798236e-06,
          2.9374080499084375e-05,
          -2.0291248040224183e-05,
          0.0005641618808570328,
          -0.00020848819227169395,
          1.0358633512000913e-05,
          -7.312677040125296e-05,
          -1.2753018623678017e-06,
          0.0001457112002377168,
          3.142280504565137e-07,
          2.9842816118138757e-05,
          -0.0001367881009330836,
          -1.3126588378362114e-05,
          -4.958340861230953e-06,
          -9.040354001984066e-06,
          -4.198674401310106e-05,
          0.00022785011541708294,
          -7.463868845253643e-05,
          -1.2467865535461392e-06,
          -1.1432873122350917e-07,
          0,
          -1.9998625801207967e-05,
          -0.0005116754371768434,
          0.0003029086984600083,
          3.5745561768806174e-05,
          1.0714472849894865e-06,
          -4.308974248868041e-05,
          -0.00011056643300586151,
          -0.00010780453123847723,
          2.7167837402826585e-05,
          0.00014676728981095812,
          -0.00010511532434778498,
          4.64895228661855e-05,
          2.337051715017857e-05,
          -0.00010932700109929361,
          5.0926609919646655e-05,
          5.180442944207296e-05,
          -5.2112794971537375e-05,
          7.745465496825522e-05,
          -7.095339799039098e-05,
          1.1666533886135408e-06,
          -0.00029588884659265775,
          -1.0998622383669252e-05,
          0.0002781754911516639,
          3.387280541450842e-06,
          -0.00012823098842200094,
          -9.87280338360201e-07,
          -0.00044625600742621493,
          0.00021548480694740533,
          -0.00018179919650893918,
          -2.3656264921153962e-05,
          7.814861732462035e-05,
          0.00043574361159724913,
          -8.706320508586069e-05,
          7.308773163508531e-05,
          1.3975473450775384e-05,
          6.79140693797542e-05,
          -2.7652594843993045e-06,
          1.1164496864164535e-05,
          -6.565090451760708e-06,
          1.1223767266404366e-06,
          8.348939494658321e-06,
          -9.649207489776258e-05,
          8.996893918191903e-07,
          -5.862186489910418e-05,
          0.00015186085567030433,
          1.2296156204101918e-05,
          -7.626512611981669e-06,
          -0.000508342742334477,
          -1.8274515258681623e-07,
          7.540456318394029e-05,
          -4.393195277365477e-05,
          -3.279628043543082e-06,
          -2.3126573879235848e-07,
          -9.113058109991735e-05,
          0.00015281124808115857,
          1.936725001948445e-05,
          9.289180087960168e-06,
          -9.864309722385205e-05,
          0.0003001551177160759,
          -2.867696560993928e-06,
          -0.0003165760556512725,
          -4.3237271780101685e-06,
          0.0002051485991513267,
          -0.0002568261230573763,
          -0.00012867932897031326,
          -0.00020819418998917812,
          1.6314694659992635e-07,
          -9.548795412775467e-05,
          -0.00029669489409260693,
          7.448697015355202e-05,
          -0.000769901984894304,
          1.0414915251749646e-07,
          0,
          0.00035414328358655215,
          0.00017466039002816828,
          -6.189032506739682e-06,
          -7.190010080779154e-05,
          0.00015235701870282975,
          0.0007249326286137476,
          0.0003262562313180589,
          -0.00043464053430472636,
          0.0001799538139719394,
          3.705287850559475e-06,
          0.00026174826358059617,
          -0.00021573891479453053,
          0.0002625454687744501,
          -6.101099000438599e-06,
          6.101099000438599e-06,
          -6.101099000438599e-06,
          6.101099000438599e-06
         ],
         "yaxis": "y"
        }
       ],
       "layout": {
        "legend": {
         "tracegroupgap": 0
        },
        "template": {
         "data": {
          "bar": [
           {
            "error_x": {
             "color": "#2a3f5f"
            },
            "error_y": {
             "color": "#2a3f5f"
            },
            "marker": {
             "line": {
              "color": "#E5ECF6",
              "width": 0.5
             },
             "pattern": {
              "fillmode": "overlay",
              "size": 10,
              "solidity": 0.2
             }
            },
            "type": "bar"
           }
          ],
          "barpolar": [
           {
            "marker": {
             "line": {
              "color": "#E5ECF6",
              "width": 0.5
             },
             "pattern": {
              "fillmode": "overlay",
              "size": 10,
              "solidity": 0.2
             }
            },
            "type": "barpolar"
           }
          ],
          "carpet": [
           {
            "aaxis": {
             "endlinecolor": "#2a3f5f",
             "gridcolor": "white",
             "linecolor": "white",
             "minorgridcolor": "white",
             "startlinecolor": "#2a3f5f"
            },
            "baxis": {
             "endlinecolor": "#2a3f5f",
             "gridcolor": "white",
             "linecolor": "white",
             "minorgridcolor": "white",
             "startlinecolor": "#2a3f5f"
            },
            "type": "carpet"
           }
          ],
          "choropleth": [
           {
            "colorbar": {
             "outlinewidth": 0,
             "ticks": ""
            },
            "type": "choropleth"
           }
          ],
          "contour": [
           {
            "colorbar": {
             "outlinewidth": 0,
             "ticks": ""
            },
            "colorscale": [
             [
              0,
              "#0d0887"
             ],
             [
              0.1111111111111111,
              "#46039f"
             ],
             [
              0.2222222222222222,
              "#7201a8"
             ],
             [
              0.3333333333333333,
              "#9c179e"
             ],
             [
              0.4444444444444444,
              "#bd3786"
             ],
             [
              0.5555555555555556,
              "#d8576b"
             ],
             [
              0.6666666666666666,
              "#ed7953"
             ],
             [
              0.7777777777777778,
              "#fb9f3a"
             ],
             [
              0.8888888888888888,
              "#fdca26"
             ],
             [
              1,
              "#f0f921"
             ]
            ],
            "type": "contour"
           }
          ],
          "contourcarpet": [
           {
            "colorbar": {
             "outlinewidth": 0,
             "ticks": ""
            },
            "type": "contourcarpet"
           }
          ],
          "heatmap": [
           {
            "colorbar": {
             "outlinewidth": 0,
             "ticks": ""
            },
            "colorscale": [
             [
              0,
              "#0d0887"
             ],
             [
              0.1111111111111111,
              "#46039f"
             ],
             [
              0.2222222222222222,
              "#7201a8"
             ],
             [
              0.3333333333333333,
              "#9c179e"
             ],
             [
              0.4444444444444444,
              "#bd3786"
             ],
             [
              0.5555555555555556,
              "#d8576b"
             ],
             [
              0.6666666666666666,
              "#ed7953"
             ],
             [
              0.7777777777777778,
              "#fb9f3a"
             ],
             [
              0.8888888888888888,
              "#fdca26"
             ],
             [
              1,
              "#f0f921"
             ]
            ],
            "type": "heatmap"
           }
          ],
          "heatmapgl": [
           {
            "colorbar": {
             "outlinewidth": 0,
             "ticks": ""
            },
            "colorscale": [
             [
              0,
              "#0d0887"
             ],
             [
              0.1111111111111111,
              "#46039f"
             ],
             [
              0.2222222222222222,
              "#7201a8"
             ],
             [
              0.3333333333333333,
              "#9c179e"
             ],
             [
              0.4444444444444444,
              "#bd3786"
             ],
             [
              0.5555555555555556,
              "#d8576b"
             ],
             [
              0.6666666666666666,
              "#ed7953"
             ],
             [
              0.7777777777777778,
              "#fb9f3a"
             ],
             [
              0.8888888888888888,
              "#fdca26"
             ],
             [
              1,
              "#f0f921"
             ]
            ],
            "type": "heatmapgl"
           }
          ],
          "histogram": [
           {
            "marker": {
             "pattern": {
              "fillmode": "overlay",
              "size": 10,
              "solidity": 0.2
             }
            },
            "type": "histogram"
           }
          ],
          "histogram2d": [
           {
            "colorbar": {
             "outlinewidth": 0,
             "ticks": ""
            },
            "colorscale": [
             [
              0,
              "#0d0887"
             ],
             [
              0.1111111111111111,
              "#46039f"
             ],
             [
              0.2222222222222222,
              "#7201a8"
             ],
             [
              0.3333333333333333,
              "#9c179e"
             ],
             [
              0.4444444444444444,
              "#bd3786"
             ],
             [
              0.5555555555555556,
              "#d8576b"
             ],
             [
              0.6666666666666666,
              "#ed7953"
             ],
             [
              0.7777777777777778,
              "#fb9f3a"
             ],
             [
              0.8888888888888888,
              "#fdca26"
             ],
             [
              1,
              "#f0f921"
             ]
            ],
            "type": "histogram2d"
           }
          ],
          "histogram2dcontour": [
           {
            "colorbar": {
             "outlinewidth": 0,
             "ticks": ""
            },
            "colorscale": [
             [
              0,
              "#0d0887"
             ],
             [
              0.1111111111111111,
              "#46039f"
             ],
             [
              0.2222222222222222,
              "#7201a8"
             ],
             [
              0.3333333333333333,
              "#9c179e"
             ],
             [
              0.4444444444444444,
              "#bd3786"
             ],
             [
              0.5555555555555556,
              "#d8576b"
             ],
             [
              0.6666666666666666,
              "#ed7953"
             ],
             [
              0.7777777777777778,
              "#fb9f3a"
             ],
             [
              0.8888888888888888,
              "#fdca26"
             ],
             [
              1,
              "#f0f921"
             ]
            ],
            "type": "histogram2dcontour"
           }
          ],
          "mesh3d": [
           {
            "colorbar": {
             "outlinewidth": 0,
             "ticks": ""
            },
            "type": "mesh3d"
           }
          ],
          "parcoords": [
           {
            "line": {
             "colorbar": {
              "outlinewidth": 0,
              "ticks": ""
             }
            },
            "type": "parcoords"
           }
          ],
          "pie": [
           {
            "automargin": true,
            "type": "pie"
           }
          ],
          "scatter": [
           {
            "marker": {
             "colorbar": {
              "outlinewidth": 0,
              "ticks": ""
             }
            },
            "type": "scatter"
           }
          ],
          "scatter3d": [
           {
            "line": {
             "colorbar": {
              "outlinewidth": 0,
              "ticks": ""
             }
            },
            "marker": {
             "colorbar": {
              "outlinewidth": 0,
              "ticks": ""
             }
            },
            "type": "scatter3d"
           }
          ],
          "scattercarpet": [
           {
            "marker": {
             "colorbar": {
              "outlinewidth": 0,
              "ticks": ""
             }
            },
            "type": "scattercarpet"
           }
          ],
          "scattergeo": [
           {
            "marker": {
             "colorbar": {
              "outlinewidth": 0,
              "ticks": ""
             }
            },
            "type": "scattergeo"
           }
          ],
          "scattergl": [
           {
            "marker": {
             "colorbar": {
              "outlinewidth": 0,
              "ticks": ""
             }
            },
            "type": "scattergl"
           }
          ],
          "scattermapbox": [
           {
            "marker": {
             "colorbar": {
              "outlinewidth": 0,
              "ticks": ""
             }
            },
            "type": "scattermapbox"
           }
          ],
          "scatterpolar": [
           {
            "marker": {
             "colorbar": {
              "outlinewidth": 0,
              "ticks": ""
             }
            },
            "type": "scatterpolar"
           }
          ],
          "scatterpolargl": [
           {
            "marker": {
             "colorbar": {
              "outlinewidth": 0,
              "ticks": ""
             }
            },
            "type": "scatterpolargl"
           }
          ],
          "scatterternary": [
           {
            "marker": {
             "colorbar": {
              "outlinewidth": 0,
              "ticks": ""
             }
            },
            "type": "scatterternary"
           }
          ],
          "surface": [
           {
            "colorbar": {
             "outlinewidth": 0,
             "ticks": ""
            },
            "colorscale": [
             [
              0,
              "#0d0887"
             ],
             [
              0.1111111111111111,
              "#46039f"
             ],
             [
              0.2222222222222222,
              "#7201a8"
             ],
             [
              0.3333333333333333,
              "#9c179e"
             ],
             [
              0.4444444444444444,
              "#bd3786"
             ],
             [
              0.5555555555555556,
              "#d8576b"
             ],
             [
              0.6666666666666666,
              "#ed7953"
             ],
             [
              0.7777777777777778,
              "#fb9f3a"
             ],
             [
              0.8888888888888888,
              "#fdca26"
             ],
             [
              1,
              "#f0f921"
             ]
            ],
            "type": "surface"
           }
          ],
          "table": [
           {
            "cells": {
             "fill": {
              "color": "#EBF0F8"
             },
             "line": {
              "color": "white"
             }
            },
            "header": {
             "fill": {
              "color": "#C8D4E3"
             },
             "line": {
              "color": "white"
             }
            },
            "type": "table"
           }
          ]
         },
         "layout": {
          "annotationdefaults": {
           "arrowcolor": "#2a3f5f",
           "arrowhead": 0,
           "arrowwidth": 1
          },
          "autotypenumbers": "strict",
          "coloraxis": {
           "colorbar": {
            "outlinewidth": 0,
            "ticks": ""
           }
          },
          "colorscale": {
           "diverging": [
            [
             0,
             "#8e0152"
            ],
            [
             0.1,
             "#c51b7d"
            ],
            [
             0.2,
             "#de77ae"
            ],
            [
             0.3,
             "#f1b6da"
            ],
            [
             0.4,
             "#fde0ef"
            ],
            [
             0.5,
             "#f7f7f7"
            ],
            [
             0.6,
             "#e6f5d0"
            ],
            [
             0.7,
             "#b8e186"
            ],
            [
             0.8,
             "#7fbc41"
            ],
            [
             0.9,
             "#4d9221"
            ],
            [
             1,
             "#276419"
            ]
           ],
           "sequential": [
            [
             0,
             "#0d0887"
            ],
            [
             0.1111111111111111,
             "#46039f"
            ],
            [
             0.2222222222222222,
             "#7201a8"
            ],
            [
             0.3333333333333333,
             "#9c179e"
            ],
            [
             0.4444444444444444,
             "#bd3786"
            ],
            [
             0.5555555555555556,
             "#d8576b"
            ],
            [
             0.6666666666666666,
             "#ed7953"
            ],
            [
             0.7777777777777778,
             "#fb9f3a"
            ],
            [
             0.8888888888888888,
             "#fdca26"
            ],
            [
             1,
             "#f0f921"
            ]
           ],
           "sequentialminus": [
            [
             0,
             "#0d0887"
            ],
            [
             0.1111111111111111,
             "#46039f"
            ],
            [
             0.2222222222222222,
             "#7201a8"
            ],
            [
             0.3333333333333333,
             "#9c179e"
            ],
            [
             0.4444444444444444,
             "#bd3786"
            ],
            [
             0.5555555555555556,
             "#d8576b"
            ],
            [
             0.6666666666666666,
             "#ed7953"
            ],
            [
             0.7777777777777778,
             "#fb9f3a"
            ],
            [
             0.8888888888888888,
             "#fdca26"
            ],
            [
             1,
             "#f0f921"
            ]
           ]
          },
          "colorway": [
           "#636efa",
           "#EF553B",
           "#00cc96",
           "#ab63fa",
           "#FFA15A",
           "#19d3f3",
           "#FF6692",
           "#B6E880",
           "#FF97FF",
           "#FECB52"
          ],
          "font": {
           "color": "#2a3f5f"
          },
          "geo": {
           "bgcolor": "white",
           "lakecolor": "white",
           "landcolor": "#E5ECF6",
           "showlakes": true,
           "showland": true,
           "subunitcolor": "white"
          },
          "hoverlabel": {
           "align": "left"
          },
          "hovermode": "closest",
          "mapbox": {
           "style": "light"
          },
          "paper_bgcolor": "white",
          "plot_bgcolor": "#E5ECF6",
          "polar": {
           "angularaxis": {
            "gridcolor": "white",
            "linecolor": "white",
            "ticks": ""
           },
           "bgcolor": "#E5ECF6",
           "radialaxis": {
            "gridcolor": "white",
            "linecolor": "white",
            "ticks": ""
           }
          },
          "scene": {
           "xaxis": {
            "backgroundcolor": "#E5ECF6",
            "gridcolor": "white",
            "gridwidth": 2,
            "linecolor": "white",
            "showbackground": true,
            "ticks": "",
            "zerolinecolor": "white"
           },
           "yaxis": {
            "backgroundcolor": "#E5ECF6",
            "gridcolor": "white",
            "gridwidth": 2,
            "linecolor": "white",
            "showbackground": true,
            "ticks": "",
            "zerolinecolor": "white"
           },
           "zaxis": {
            "backgroundcolor": "#E5ECF6",
            "gridcolor": "white",
            "gridwidth": 2,
            "linecolor": "white",
            "showbackground": true,
            "ticks": "",
            "zerolinecolor": "white"
           }
          },
          "shapedefaults": {
           "line": {
            "color": "#2a3f5f"
           }
          },
          "ternary": {
           "aaxis": {
            "gridcolor": "white",
            "linecolor": "white",
            "ticks": ""
           },
           "baxis": {
            "gridcolor": "white",
            "linecolor": "white",
            "ticks": ""
           },
           "bgcolor": "#E5ECF6",
           "caxis": {
            "gridcolor": "white",
            "linecolor": "white",
            "ticks": ""
           }
          },
          "title": {
           "x": 0.05
          },
          "xaxis": {
           "automargin": true,
           "gridcolor": "white",
           "linecolor": "white",
           "ticks": "",
           "title": {
            "standoff": 15
           },
           "zerolinecolor": "white",
           "zerolinewidth": 2
          },
          "yaxis": {
           "automargin": true,
           "gridcolor": "white",
           "linecolor": "white",
           "ticks": "",
           "title": {
            "standoff": 15
           },
           "zerolinecolor": "white",
           "zerolinewidth": 2
          }
         }
        },
        "title": {
         "text": "Log return of stock_id_0, time_id_5"
        },
        "xaxis": {
         "anchor": "y",
         "domain": [
          0,
          1
         ],
         "title": {
          "text": "seconds_in_bucket"
         }
        },
        "yaxis": {
         "anchor": "x",
         "domain": [
          0,
          1
         ],
         "title": {
          "text": "log_return"
         }
        }
       }
      }
     },
     "metadata": {},
     "output_type": "display_data"
    }
   ],
   "source": [
    "fig = px.line(book_example, x=\"seconds_in_bucket\", y=\"log_return\", title='Log return of stock_id_0, time_id_5')\n",
    "fig.show()"
   ]
  },
  {
   "cell_type": "markdown",
   "metadata": {},
   "source": [
    "###Realized volatility\n",
    "\n",
    "When we trade options, a valuable input to our models is the standard deviation of the stock log returns. The standard deviation will be different for log returns computed over longer or shorter intervals, for this reason it is usually normalized to a 1-year period and the annualized standard deviation is called volatility.\n",
    "\n",
    "In this competition, you will be given 10 minutes of book data and we ask you to predict what the volatility will be in the following 10 minutes. Volatility will be measured as follows:\n",
    "\n",
    "We will compute the log returns over all consecutive book updates and we define the realized volatility,  σ , as the squared root of the sum of squared log returns.\n",
    "\n",
    "$\\sigma = \\sqrt{\\sum_{t}r_{t-1, t}^2}$\n",
    " \n",
    "Where we use WAP as price of the stock to compute log returns.\n",
    "\n",
    "We want to keep definitions as simple and clear as possible, so that Kagglers without financial knowledge will not be penalized. So we are not annualizing the volatility and we are assuming that log returns have 0 mean.\n",
    "\n",
    "\n",
    "The realized vol of stock 0 in this feature bucket, will be:"
   ]
  },
  {
   "cell_type": "code",
   "execution_count": 14,
   "metadata": {},
   "outputs": [
    {
     "name": "stdout",
     "output_type": "stream",
     "text": [
      "Realized volatility for stock_id 0 on time_id 5 is 0.003781836825928014\n"
     ]
    }
   ],
   "source": [
    "def realized_volatility(series_log_return):\n",
    "    return np.sqrt(np.sum(series_log_return**2))\n",
    "realized_vol = realized_volatility(book_example['log_return'])\n",
    "print(f'Realized volatility for stock_id 0 on time_id 5 is {realized_vol}')"
   ]
  },
  {
   "cell_type": "markdown",
   "metadata": {},
   "source": [
    "### Naive prediction: using past realized volatility as target\n",
    "\n",
    "A commonly known fact about volatility is that it tends to be autocorrelated. We can use this property to implement a naive model that just \"predicts\" realized volatility by using whatever the realized volatility was in the initial 10 minutes.\n",
    "\n",
    "Let's calculate the past realized volatility across the training set to see how predictive a single naive signal can be."
   ]
  },
  {
   "cell_type": "code",
   "execution_count": 15,
   "metadata": {},
   "outputs": [],
   "source": [
    "import glob\n",
    "list_order_book_file_train = glob.glob('optiver-realized-volatility-prediction/book_train.parquet/*')\n",
    "#list_order_book_file_train"
   ]
  },
  {
   "cell_type": "markdown",
   "metadata": {},
   "source": [
    "As the data is partitioned by stock_id (each stock id is one folder), we try to calculcate realized volatility stock by stock and combine them into one target file. Note that the stock id as the partition column is not present if we load the single file so we will remedy that manually. We will reuse the log return and realized volatility functions defined in the previous session."
   ]
  },
  {
   "cell_type": "code",
   "execution_count": 27,
   "metadata": {},
   "outputs": [],
   "source": [
    "def compute_wap(df_stock_book):\n",
    "       df_stock_book['bid_price'] = (df_stock_book['bid_price1'] * df_stock_book['bid_size1'] + df_stock_book['bid_price2'] * df_stock_book['bid_size2'])/(df_stock_book['bid_size1'] + df_stock_book['bid_size2'])\n",
    "       df_stock_book['bid_size'] = (df_stock_book['bid_size1'] + df_stock_book['bid_size2'])\n",
    "\n",
    "       df_stock_book['ask_price'] = (df_stock_book['ask_price1'] * df_stock_book['ask_size1'] + df_stock_book['ask_price2'] * df_stock_book['ask_size2'])/(df_stock_book['ask_size1'] + df_stock_book['ask_size2'])\n",
    "       df_stock_book['ask_size'] = (df_stock_book['ask_size1'] + df_stock_book['ask_size2'])\n",
    "\n",
    "       df_stock_book['wap'] = (df_stock_book['bid_price'] * df_stock_book['ask_size'] + df_stock_book['ask_price'] * df_stock_book['bid_size']) / (df_stock_book['bid_size'] +  df_stock_book['ask_size'])\n",
    "       return df_stock_book['wap']"
   ]
  },
  {
   "cell_type": "code",
   "execution_count": 28,
   "metadata": {},
   "outputs": [],
   "source": [
    "def realized_volatility_per_time_id(file_path, prediction_column_name):\n",
    "    df_book_data = pd.read_parquet(file_path)\n",
    "#    df_book_data['wap'] = (df_book_data['bid_price1'] * df_book_data['ask_size1']+df_book_data['ask_price1'] * df_book_data['bid_size1'])  / (\n",
    "#                                     df_book_data['bid_size1']+ df_book_data[\n",
    "#                                  'ask_size1'])\n",
    "    df_book_data['wap'] = compute_wap(df_book_data)\n",
    "    df_book_data['log_return'] = df_book_data.groupby(['time_id'])['wap'].apply(log_return)\n",
    "    df_book_data = df_book_data[~df_book_data['log_return'].isnull()]\n",
    "    df_realized_vol_per_stock =  pd.DataFrame(df_book_data.groupby(['time_id'])['log_return'].agg(realized_volatility)).reset_index()\n",
    "    df_realized_vol_per_stock = df_realized_vol_per_stock.rename(columns = {'log_return':prediction_column_name})\n",
    "    stock_id = file_path.split('=')[1]\n",
    "    df_realized_vol_per_stock['row_id'] = df_realized_vol_per_stock['time_id'].apply(lambda x:f'{stock_id}-{x}')\n",
    "    return df_realized_vol_per_stock[['row_id',prediction_column_name]]"
   ]
  },
  {
   "cell_type": "code",
   "execution_count": null,
   "metadata": {},
   "outputs": [],
   "source": []
  },
  {
   "cell_type": "markdown",
   "metadata": {},
   "source": [
    "Looping through each individual stocks, we can get the past realized volatility as prediction for each individual stocks."
   ]
  },
  {
   "cell_type": "code",
   "execution_count": 29,
   "metadata": {
    "tags": []
   },
   "outputs": [],
   "source": [
    "def past_realized_volatility_per_stock(list_file,prediction_column_name):\n",
    "    df_past_realized = pd.DataFrame()\n",
    "    for file in list_file:\n",
    "        df_past_realized = pd.concat([df_past_realized,\n",
    "                                     realized_volatility_per_time_id(file,prediction_column_name)])\n",
    "    return df_past_realized\n",
    "df_past_realized_train = past_realized_volatility_per_stock(list_file=list_order_book_file_train,\n",
    "                                                           prediction_column_name='pred')"
   ]
  },
  {
   "cell_type": "code",
   "execution_count": 30,
   "metadata": {},
   "outputs": [
    {
     "data": {
      "text/html": [
       "<div>\n",
       "<style scoped>\n",
       "    .dataframe tbody tr th:only-of-type {\n",
       "        vertical-align: middle;\n",
       "    }\n",
       "\n",
       "    .dataframe tbody tr th {\n",
       "        vertical-align: top;\n",
       "    }\n",
       "\n",
       "    .dataframe thead th {\n",
       "        text-align: right;\n",
       "    }\n",
       "</style>\n",
       "<table border=\"1\" class=\"dataframe\">\n",
       "  <thead>\n",
       "    <tr style=\"text-align: right;\">\n",
       "      <th></th>\n",
       "      <th>row_id</th>\n",
       "      <th>pred</th>\n",
       "    </tr>\n",
       "  </thead>\n",
       "  <tbody>\n",
       "    <tr>\n",
       "      <th>0</th>\n",
       "      <td>0-5</td>\n",
       "      <td>0.003782</td>\n",
       "    </tr>\n",
       "    <tr>\n",
       "      <th>1</th>\n",
       "      <td>0-11</td>\n",
       "      <td>0.001279</td>\n",
       "    </tr>\n",
       "    <tr>\n",
       "      <th>2</th>\n",
       "      <td>0-16</td>\n",
       "      <td>0.002300</td>\n",
       "    </tr>\n",
       "    <tr>\n",
       "      <th>3</th>\n",
       "      <td>0-31</td>\n",
       "      <td>0.002779</td>\n",
       "    </tr>\n",
       "    <tr>\n",
       "      <th>4</th>\n",
       "      <td>0-62</td>\n",
       "      <td>0.001959</td>\n",
       "    </tr>\n",
       "  </tbody>\n",
       "</table>\n",
       "</div>"
      ],
      "text/plain": [
       "  row_id      pred\n",
       "0    0-5  0.003782\n",
       "1   0-11  0.001279\n",
       "2   0-16  0.002300\n",
       "3   0-31  0.002779\n",
       "4   0-62  0.001959"
      ]
     },
     "execution_count": 30,
     "metadata": {},
     "output_type": "execute_result"
    }
   ],
   "source": [
    "df_past_realized_train.head()"
   ]
  },
  {
   "cell_type": "markdown",
   "metadata": {},
   "source": [
    "Let's join the output dataframe with train.csv to see the performance of the naive prediction on training set."
   ]
  },
  {
   "cell_type": "code",
   "execution_count": 31,
   "metadata": {},
   "outputs": [],
   "source": [
    "train['row_id'] = train['stock_id'].astype(str) + '-' + train['time_id'].astype(str)\n",
    "train = train[['row_id','target']]\n",
    "df_joined = train.merge(df_past_realized_train[['row_id','pred']], on = ['row_id'], how = 'left')"
   ]
  },
  {
   "cell_type": "markdown",
   "metadata": {},
   "source": [
    "We will evaluate the naive prediction result by two metrics: RMSPE and R squared."
   ]
  },
  {
   "cell_type": "code",
   "execution_count": 33,
   "metadata": {},
   "outputs": [
    {
     "name": "stdout",
     "output_type": "stream",
     "text": [
      "Performance of the naive prediction: R2 score: 0.672, RMSPE: 33.676%\n"
     ]
    }
   ],
   "source": [
    "from sklearn.metrics import r2_score\n",
    "def rmspe(y_true, y_pred):\n",
    "    return  (np.sqrt(np.mean(np.square((y_true - y_pred) / y_true)))) * 100\n",
    "R2 = round(r2_score(y_true = df_joined['target'], y_pred = df_joined['pred']),3)\n",
    "RMSPE = round(rmspe(y_true = df_joined['target'], y_pred = df_joined['pred']),3)\n",
    "print(f'Performance of the naive prediction: R2 score: {R2}, RMSPE: {RMSPE}%')"
   ]
  }
 ],
 "metadata": {
  "interpreter": {
   "hash": "b3ba2566441a7c06988d0923437866b63cedc61552a5af99d1f4fb67d367b25f"
  },
  "kernelspec": {
   "display_name": "Python 3 (ipykernel)",
   "language": "python",
   "name": "python3"
  },
  "language_info": {
   "codemirror_mode": {
    "name": "ipython",
    "version": 3
   },
   "file_extension": ".py",
   "mimetype": "text/x-python",
   "name": "python",
   "nbconvert_exporter": "python",
   "pygments_lexer": "ipython3",
   "version": "3.9.7"
  }
 },
 "nbformat": 4,
 "nbformat_minor": 4
}
